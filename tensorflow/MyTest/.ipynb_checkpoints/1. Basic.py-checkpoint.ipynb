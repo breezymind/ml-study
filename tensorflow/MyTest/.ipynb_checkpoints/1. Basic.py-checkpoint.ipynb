{
 "cells": [
  {
   "cell_type": "code",
   "execution_count": 152,
   "metadata": {
    "collapsed": false
   },
   "outputs": [
    {
     "data": {
      "text/html": [
       "\n",
       "    <div class=\"bk-root\">\n",
       "        <a href=\"http://bokeh.pydata.org\" target=\"_blank\" class=\"bk-logo bk-logo-small bk-logo-notebook\"></a>\n",
       "        <span id=\"9b67507d-e9bf-40c0-99a2-47f1424e4b4b\">Loading BokehJS ...</span>\n",
       "    </div>"
      ]
     },
     "metadata": {},
     "output_type": "display_data"
    },
    {
     "data": {
      "application/javascript": [
       "\n",
       "(function(global) {\n",
       "  function now() {\n",
       "    return new Date();\n",
       "  }\n",
       "\n",
       "  var force = true;\n",
       "\n",
       "  if (typeof (window._bokeh_onload_callbacks) === \"undefined\" || force === true) {\n",
       "    window._bokeh_onload_callbacks = [];\n",
       "    window._bokeh_is_loading = undefined;\n",
       "  }\n",
       "\n",
       "\n",
       "  \n",
       "  if (typeof (window._bokeh_timeout) === \"undefined\" || force === true) {\n",
       "    window._bokeh_timeout = Date.now() + 5000;\n",
       "    window._bokeh_failed_load = false;\n",
       "  }\n",
       "\n",
       "  var NB_LOAD_WARNING = {'data': {'text/html':\n",
       "     \"<div style='background-color: #fdd'>\\n\"+\n",
       "     \"<p>\\n\"+\n",
       "     \"BokehJS does not appear to have successfully loaded. If loading BokehJS from CDN, this \\n\"+\n",
       "     \"may be due to a slow or bad network connection. Possible fixes:\\n\"+\n",
       "     \"</p>\\n\"+\n",
       "     \"<ul>\\n\"+\n",
       "     \"<li>re-rerun `output_notebook()` to attempt to load from CDN again, or</li>\\n\"+\n",
       "     \"<li>use INLINE resources instead, as so:</li>\\n\"+\n",
       "     \"</ul>\\n\"+\n",
       "     \"<code>\\n\"+\n",
       "     \"from bokeh.resources import INLINE\\n\"+\n",
       "     \"output_notebook(resources=INLINE)\\n\"+\n",
       "     \"</code>\\n\"+\n",
       "     \"</div>\"}};\n",
       "\n",
       "  function display_loaded() {\n",
       "    if (window.Bokeh !== undefined) {\n",
       "      document.getElementById(\"9b67507d-e9bf-40c0-99a2-47f1424e4b4b\").textContent = \"BokehJS successfully loaded.\";\n",
       "    } else if (Date.now() < window._bokeh_timeout) {\n",
       "      setTimeout(display_loaded, 100)\n",
       "    }\n",
       "  }\n",
       "\n",
       "  function run_callbacks() {\n",
       "    window._bokeh_onload_callbacks.forEach(function(callback) { callback() });\n",
       "    delete window._bokeh_onload_callbacks\n",
       "    console.info(\"Bokeh: all callbacks have finished\");\n",
       "  }\n",
       "\n",
       "  function load_libs(js_urls, callback) {\n",
       "    window._bokeh_onload_callbacks.push(callback);\n",
       "    if (window._bokeh_is_loading > 0) {\n",
       "      console.log(\"Bokeh: BokehJS is being loaded, scheduling callback at\", now());\n",
       "      return null;\n",
       "    }\n",
       "    if (js_urls == null || js_urls.length === 0) {\n",
       "      run_callbacks();\n",
       "      return null;\n",
       "    }\n",
       "    console.log(\"Bokeh: BokehJS not loaded, scheduling load and callback at\", now());\n",
       "    window._bokeh_is_loading = js_urls.length;\n",
       "    for (var i = 0; i < js_urls.length; i++) {\n",
       "      var url = js_urls[i];\n",
       "      var s = document.createElement('script');\n",
       "      s.src = url;\n",
       "      s.async = false;\n",
       "      s.onreadystatechange = s.onload = function() {\n",
       "        window._bokeh_is_loading--;\n",
       "        if (window._bokeh_is_loading === 0) {\n",
       "          console.log(\"Bokeh: all BokehJS libraries loaded\");\n",
       "          run_callbacks()\n",
       "        }\n",
       "      };\n",
       "      s.onerror = function() {\n",
       "        console.warn(\"failed to load library \" + url);\n",
       "      };\n",
       "      console.log(\"Bokeh: injecting script tag for BokehJS library: \", url);\n",
       "      document.getElementsByTagName(\"head\")[0].appendChild(s);\n",
       "    }\n",
       "  };var element = document.getElementById(\"9b67507d-e9bf-40c0-99a2-47f1424e4b4b\");\n",
       "  if (element == null) {\n",
       "    console.log(\"Bokeh: ERROR: autoload.js configured with elementid '9b67507d-e9bf-40c0-99a2-47f1424e4b4b' but no matching script tag was found. \")\n",
       "    return false;\n",
       "  }\n",
       "\n",
       "  var js_urls = [\"https://cdn.pydata.org/bokeh/release/bokeh-0.12.4.min.js\", \"https://cdn.pydata.org/bokeh/release/bokeh-widgets-0.12.4.min.js\"];\n",
       "\n",
       "  var inline_js = [\n",
       "    function(Bokeh) {\n",
       "      Bokeh.set_log_level(\"info\");\n",
       "    },\n",
       "    \n",
       "    function(Bokeh) {\n",
       "      \n",
       "      document.getElementById(\"9b67507d-e9bf-40c0-99a2-47f1424e4b4b\").textContent = \"BokehJS is loading...\";\n",
       "    },\n",
       "    function(Bokeh) {\n",
       "      console.log(\"Bokeh: injecting CSS: https://cdn.pydata.org/bokeh/release/bokeh-0.12.4.min.css\");\n",
       "      Bokeh.embed.inject_css(\"https://cdn.pydata.org/bokeh/release/bokeh-0.12.4.min.css\");\n",
       "      console.log(\"Bokeh: injecting CSS: https://cdn.pydata.org/bokeh/release/bokeh-widgets-0.12.4.min.css\");\n",
       "      Bokeh.embed.inject_css(\"https://cdn.pydata.org/bokeh/release/bokeh-widgets-0.12.4.min.css\");\n",
       "    }\n",
       "  ];\n",
       "\n",
       "  function run_inline_js() {\n",
       "    \n",
       "    if ((window.Bokeh !== undefined) || (force === true)) {\n",
       "      for (var i = 0; i < inline_js.length; i++) {\n",
       "        inline_js[i](window.Bokeh);\n",
       "      }if (force === true) {\n",
       "        display_loaded();\n",
       "      }} else if (Date.now() < window._bokeh_timeout) {\n",
       "      setTimeout(run_inline_js, 100);\n",
       "    } else if (!window._bokeh_failed_load) {\n",
       "      console.log(\"Bokeh: BokehJS failed to load within specified timeout.\");\n",
       "      window._bokeh_failed_load = true;\n",
       "    } else if (force !== true) {\n",
       "      var cell = $(document.getElementById(\"9b67507d-e9bf-40c0-99a2-47f1424e4b4b\")).parents('.cell').data().cell;\n",
       "      cell.output_area.append_execute_result(NB_LOAD_WARNING)\n",
       "    }\n",
       "\n",
       "  }\n",
       "\n",
       "  if (window._bokeh_is_loading === 0) {\n",
       "    console.log(\"Bokeh: BokehJS loaded, going straight to plotting\");\n",
       "    run_inline_js();\n",
       "  } else {\n",
       "    load_libs(js_urls, function() {\n",
       "      console.log(\"Bokeh: BokehJS plotting callback run at\", now());\n",
       "      run_inline_js();\n",
       "    });\n",
       "  }\n",
       "}(this));"
      ]
     },
     "metadata": {},
     "output_type": "display_data"
    }
   ],
   "source": [
    "# -*- coding: utf-8 -*-\n",
    "import tensorflow as tf\n",
    "\n",
    "from bokeh.plotting import figure, show, output_notebook, output_file\n",
    "output_notebook()\n",
    "\n",
    "from bokeh.plotting import figure\n",
    "from bokeh.models import HoverTool, ColumnDataSource"
   ]
  },
  {
   "cell_type": "code",
   "execution_count": 208,
   "metadata": {
    "collapsed": true
   },
   "outputs": [],
   "source": [
    "x_data = [1,2,3,4,6,8,0,5,4,6]\n",
    "y_data = [1,2,3,4,6,8,0,5,4,6]"
   ]
  },
  {
   "cell_type": "code",
   "execution_count": 209,
   "metadata": {
    "collapsed": true
   },
   "outputs": [],
   "source": [
    "# tf.Variable: 그래프를 계산하면서 최적화 할 변수들입니다. \n",
    "# 이 값이 바로 신경망을 좌우하는 값들입니다.\n",
    "\n",
    "# [] tf.random_uniform(shape, minval=0, maxval=None, dtype=tf.float32, seed=None, name=None)\n",
    "\n",
    "# 균일 한 분포에서 임의의 값을 출력합니다. \n",
    "# 생성 된 값은 [minval, maxval] 범위의 균일 한 분포를 따릅니다. \n",
    "\n",
    "# *하한 minval은 범위에 포함되지만 상한 maxval은 제외됩니다. \n",
    "\n",
    "# float의 경우 기본 범위는 [0, 1]입니다. \n",
    "# int의 경우 최소한 maxval을 명시 적으로 지정해야합니다. \n",
    "# 정수의 경우, maxval - minval이 정확한 2의 거듭 제곱이 아니면 임의의 정수가 약간 편향됩니다. \n",
    "\n",
    "# 바이어스는 출력 범위 (2 ** 32 또는 2 ** 64)보다 현저히 작은 maxval - minval의 값이 작습니다."
   ]
  },
  {
   "cell_type": "code",
   "execution_count": 210,
   "metadata": {
    "collapsed": true
   },
   "outputs": [],
   "source": [
    "# weight 가중치\n",
    "W = tf.Variable(ts.random_uniform([1],-1.0,1.0))\n",
    "# bias 편향\n",
    "b = tf.Variable(ts.random_uniform([1],-1.0,1.0))\n",
    "\n",
    "X = tf.placeholder(tf.float32)\n",
    "Y = tf.placeholder(tf.float32)"
   ]
  },
  {
   "cell_type": "code",
   "execution_count": 211,
   "metadata": {
    "collapsed": false
   },
   "outputs": [],
   "source": [
    "hypothesis = W*X+b"
   ]
  },
  {
   "cell_type": "code",
   "execution_count": 212,
   "metadata": {
    "collapsed": false
   },
   "outputs": [],
   "source": [
    "cost = tf.reduce_mean(tf.square(hypothesis - Y))"
   ]
  },
  {
   "cell_type": "code",
   "execution_count": 213,
   "metadata": {
    "collapsed": true
   },
   "outputs": [],
   "source": [
    "opt = tf.train.GradientDescentOptimizer(learning_rate=0.0005)"
   ]
  },
  {
   "cell_type": "code",
   "execution_count": 214,
   "metadata": {
    "collapsed": true
   },
   "outputs": [],
   "source": [
    "train = opt.minimize(cost)"
   ]
  },
  {
   "cell_type": "code",
   "execution_count": 215,
   "metadata": {
    "collapsed": true
   },
   "outputs": [],
   "source": [
    "init = tf.global_variables_initializer()"
   ]
  },
  {
   "cell_type": "code",
   "execution_count": 216,
   "metadata": {
    "collapsed": false
   },
   "outputs": [],
   "source": [
    "se = tf.Session()\n",
    "se.run(init)"
   ]
  },
  {
   "cell_type": "code",
   "execution_count": 220,
   "metadata": {
    "collapsed": false
   },
   "outputs": [
    {
     "data": {
      "text/html": [
       "\n",
       "\n",
       "    <div class=\"bk-root\">\n",
       "        <div class=\"bk-plotdiv\" id=\"859f6731-a272-4878-b0d1-660a88091499\"></div>\n",
       "    </div>\n",
       "<script type=\"text/javascript\">\n",
       "  \n",
       "  (function(global) {\n",
       "    function now() {\n",
       "      return new Date();\n",
       "    }\n",
       "  \n",
       "    var force = false;\n",
       "  \n",
       "    if (typeof (window._bokeh_onload_callbacks) === \"undefined\" || force === true) {\n",
       "      window._bokeh_onload_callbacks = [];\n",
       "      window._bokeh_is_loading = undefined;\n",
       "    }\n",
       "  \n",
       "  \n",
       "    \n",
       "    if (typeof (window._bokeh_timeout) === \"undefined\" || force === true) {\n",
       "      window._bokeh_timeout = Date.now() + 0;\n",
       "      window._bokeh_failed_load = false;\n",
       "    }\n",
       "  \n",
       "    var NB_LOAD_WARNING = {'data': {'text/html':\n",
       "       \"<div style='background-color: #fdd'>\\n\"+\n",
       "       \"<p>\\n\"+\n",
       "       \"BokehJS does not appear to have successfully loaded. If loading BokehJS from CDN, this \\n\"+\n",
       "       \"may be due to a slow or bad network connection. Possible fixes:\\n\"+\n",
       "       \"</p>\\n\"+\n",
       "       \"<ul>\\n\"+\n",
       "       \"<li>re-rerun `output_notebook()` to attempt to load from CDN again, or</li>\\n\"+\n",
       "       \"<li>use INLINE resources instead, as so:</li>\\n\"+\n",
       "       \"</ul>\\n\"+\n",
       "       \"<code>\\n\"+\n",
       "       \"from bokeh.resources import INLINE\\n\"+\n",
       "       \"output_notebook(resources=INLINE)\\n\"+\n",
       "       \"</code>\\n\"+\n",
       "       \"</div>\"}};\n",
       "  \n",
       "    function display_loaded() {\n",
       "      if (window.Bokeh !== undefined) {\n",
       "        document.getElementById(\"859f6731-a272-4878-b0d1-660a88091499\").textContent = \"BokehJS successfully loaded.\";\n",
       "      } else if (Date.now() < window._bokeh_timeout) {\n",
       "        setTimeout(display_loaded, 100)\n",
       "      }\n",
       "    }\n",
       "  \n",
       "    function run_callbacks() {\n",
       "      window._bokeh_onload_callbacks.forEach(function(callback) { callback() });\n",
       "      delete window._bokeh_onload_callbacks\n",
       "      console.info(\"Bokeh: all callbacks have finished\");\n",
       "    }\n",
       "  \n",
       "    function load_libs(js_urls, callback) {\n",
       "      window._bokeh_onload_callbacks.push(callback);\n",
       "      if (window._bokeh_is_loading > 0) {\n",
       "        console.log(\"Bokeh: BokehJS is being loaded, scheduling callback at\", now());\n",
       "        return null;\n",
       "      }\n",
       "      if (js_urls == null || js_urls.length === 0) {\n",
       "        run_callbacks();\n",
       "        return null;\n",
       "      }\n",
       "      console.log(\"Bokeh: BokehJS not loaded, scheduling load and callback at\", now());\n",
       "      window._bokeh_is_loading = js_urls.length;\n",
       "      for (var i = 0; i < js_urls.length; i++) {\n",
       "        var url = js_urls[i];\n",
       "        var s = document.createElement('script');\n",
       "        s.src = url;\n",
       "        s.async = false;\n",
       "        s.onreadystatechange = s.onload = function() {\n",
       "          window._bokeh_is_loading--;\n",
       "          if (window._bokeh_is_loading === 0) {\n",
       "            console.log(\"Bokeh: all BokehJS libraries loaded\");\n",
       "            run_callbacks()\n",
       "          }\n",
       "        };\n",
       "        s.onerror = function() {\n",
       "          console.warn(\"failed to load library \" + url);\n",
       "        };\n",
       "        console.log(\"Bokeh: injecting script tag for BokehJS library: \", url);\n",
       "        document.getElementsByTagName(\"head\")[0].appendChild(s);\n",
       "      }\n",
       "    };var element = document.getElementById(\"859f6731-a272-4878-b0d1-660a88091499\");\n",
       "    if (element == null) {\n",
       "      console.log(\"Bokeh: ERROR: autoload.js configured with elementid '859f6731-a272-4878-b0d1-660a88091499' but no matching script tag was found. \")\n",
       "      return false;\n",
       "    }\n",
       "  \n",
       "    var js_urls = [];\n",
       "  \n",
       "    var inline_js = [\n",
       "      function(Bokeh) {\n",
       "        (function() {\n",
       "          var fn = function() {\n",
       "            var docs_json = {\"757f1ed4-2d71-40c5-abd6-8e65c9c06e19\":{\"roots\":{\"references\":[{\"attributes\":{\"data_source\":{\"id\":\"0e806104-962b-4892-8c2c-3a8c10c01912\",\"type\":\"ColumnDataSource\"},\"glyph\":{\"id\":\"61d8cac3-ef63-45c8-9cb4-8a8e303ec94f\",\"type\":\"Line\"},\"hover_glyph\":null,\"nonselection_glyph\":{\"id\":\"1e4b97ba-4ee4-4cf2-a183-4362fa4e6e83\",\"type\":\"Line\"},\"selection_glyph\":null},\"id\":\"2969f2d6-467c-420f-aaa1-d40f6ac61bc3\",\"type\":\"GlyphRenderer\"},{\"attributes\":{\"callback\":null},\"id\":\"63b8df0a-00f9-4471-a62a-586c0f90ab22\",\"type\":\"DataRange1d\"},{\"attributes\":{\"plot\":null,\"text\":\"test\"},\"id\":\"c4d15956-3a2b-4158-bc54-837f379e1fa1\",\"type\":\"Title\"},{\"attributes\":{\"dimension\":1,\"plot\":{\"id\":\"3fa45e15-8519-4e8d-98e7-8a53c37b4c5d\",\"subtype\":\"Figure\",\"type\":\"Plot\"},\"ticker\":{\"id\":\"b309ed5d-a1e3-46e6-b390-6108622d1b82\",\"type\":\"BasicTicker\"}},\"id\":\"0c1580fc-04f6-4493-8607-20713f8c7fc1\",\"type\":\"Grid\"},{\"attributes\":{\"active_drag\":\"auto\",\"active_scroll\":\"auto\",\"active_tap\":\"auto\",\"tools\":[{\"id\":\"06ecff68-1f0c-4925-a6fb-6a3879833b78\",\"type\":\"PanTool\"},{\"id\":\"022b6f47-fd0e-4c1a-a041-85ffeb68b06b\",\"type\":\"ResetTool\"},{\"id\":\"6f61d9be-6b05-4db7-b9df-5e2c3fe4d5c1\",\"type\":\"ResizeTool\"}]},\"id\":\"61f2ea28-7db5-44a9-b0bd-c34fd8142c8f\",\"type\":\"Toolbar\"},{\"attributes\":{\"formatter\":{\"id\":\"4d2073a6-b865-4ff7-89ba-5ae48b9f740c\",\"type\":\"BasicTickFormatter\"},\"plot\":{\"id\":\"3fa45e15-8519-4e8d-98e7-8a53c37b4c5d\",\"subtype\":\"Figure\",\"type\":\"Plot\"},\"ticker\":{\"id\":\"fb70141b-bc8c-4f55-b091-44ad3d104e85\",\"type\":\"BasicTicker\"}},\"id\":\"bc8f02db-2b5c-43e2-a655-4102fd832d83\",\"type\":\"LinearAxis\"},{\"attributes\":{\"below\":[{\"id\":\"bc8f02db-2b5c-43e2-a655-4102fd832d83\",\"type\":\"LinearAxis\"}],\"left\":[{\"id\":\"e99519bc-e086-4480-afd0-30fff1edd982\",\"type\":\"LinearAxis\"}],\"plot_height\":300,\"plot_width\":300,\"renderers\":[{\"id\":\"bc8f02db-2b5c-43e2-a655-4102fd832d83\",\"type\":\"LinearAxis\"},{\"id\":\"c857a24d-306a-4562-9b33-699f00af2623\",\"type\":\"Grid\"},{\"id\":\"e99519bc-e086-4480-afd0-30fff1edd982\",\"type\":\"LinearAxis\"},{\"id\":\"0c1580fc-04f6-4493-8607-20713f8c7fc1\",\"type\":\"Grid\"},{\"id\":\"2969f2d6-467c-420f-aaa1-d40f6ac61bc3\",\"type\":\"GlyphRenderer\"}],\"title\":{\"id\":\"c4d15956-3a2b-4158-bc54-837f379e1fa1\",\"type\":\"Title\"},\"tool_events\":{\"id\":\"f503e8b1-9436-4cd0-a139-f17828fede39\",\"type\":\"ToolEvents\"},\"toolbar\":{\"id\":\"61f2ea28-7db5-44a9-b0bd-c34fd8142c8f\",\"type\":\"Toolbar\"},\"x_range\":{\"id\":\"63b8df0a-00f9-4471-a62a-586c0f90ab22\",\"type\":\"DataRange1d\"},\"y_range\":{\"id\":\"6b3f01cd-7309-4302-bcbe-8c0e984fbea1\",\"type\":\"DataRange1d\"}},\"id\":\"3fa45e15-8519-4e8d-98e7-8a53c37b4c5d\",\"subtype\":\"Figure\",\"type\":\"Plot\"},{\"attributes\":{},\"id\":\"4b30fd9f-e17b-42ac-a3fd-51b34cbe9bb5\",\"type\":\"BasicTickFormatter\"},{\"attributes\":{},\"id\":\"f503e8b1-9436-4cd0-a139-f17828fede39\",\"type\":\"ToolEvents\"},{\"attributes\":{\"line_alpha\":{\"value\":0.1},\"line_cap\":\"round\",\"line_color\":{\"value\":\"#1f77b4\"},\"line_width\":{\"value\":3},\"x\":{\"field\":\"x\"},\"y\":{\"field\":\"y\"}},\"id\":\"1e4b97ba-4ee4-4cf2-a183-4362fa4e6e83\",\"type\":\"Line\"},{\"attributes\":{\"plot\":{\"id\":\"3fa45e15-8519-4e8d-98e7-8a53c37b4c5d\",\"subtype\":\"Figure\",\"type\":\"Plot\"},\"ticker\":{\"id\":\"fb70141b-bc8c-4f55-b091-44ad3d104e85\",\"type\":\"BasicTicker\"}},\"id\":\"c857a24d-306a-4562-9b33-699f00af2623\",\"type\":\"Grid\"},{\"attributes\":{\"plot\":{\"id\":\"3fa45e15-8519-4e8d-98e7-8a53c37b4c5d\",\"subtype\":\"Figure\",\"type\":\"Plot\"}},\"id\":\"022b6f47-fd0e-4c1a-a041-85ffeb68b06b\",\"type\":\"ResetTool\"},{\"attributes\":{\"plot\":{\"id\":\"3fa45e15-8519-4e8d-98e7-8a53c37b4c5d\",\"subtype\":\"Figure\",\"type\":\"Plot\"}},\"id\":\"6f61d9be-6b05-4db7-b9df-5e2c3fe4d5c1\",\"type\":\"ResizeTool\"},{\"attributes\":{\"plot\":{\"id\":\"3fa45e15-8519-4e8d-98e7-8a53c37b4c5d\",\"subtype\":\"Figure\",\"type\":\"Plot\"}},\"id\":\"06ecff68-1f0c-4925-a6fb-6a3879833b78\",\"type\":\"PanTool\"},{\"attributes\":{},\"id\":\"fb70141b-bc8c-4f55-b091-44ad3d104e85\",\"type\":\"BasicTicker\"},{\"attributes\":{},\"id\":\"b309ed5d-a1e3-46e6-b390-6108622d1b82\",\"type\":\"BasicTicker\"},{\"attributes\":{\"callback\":null},\"id\":\"6b3f01cd-7309-4302-bcbe-8c0e984fbea1\",\"type\":\"DataRange1d\"},{\"attributes\":{\"callback\":null,\"column_names\":[\"y\",\"x\"],\"data\":{\"x\":[1,2,3,4,5,6,7,8,9,10,11,12,13,14,15,16,17,18,19,20,21,22,23,24,25,26,27,28,29,30,31,32,33,34,35,36,37,38,39,40,41,42,43,44,45,46,47,48,49,50,51,52,53,54,55,56,57,58,59,60,61,62,63,64,65,66,67,68,69,70,71,72,73,74,75,76,77,78,79,80,81,82,83,84,85,86,87,88,89,90,91,92,93,94,95,96,97,98,99,100],\"y\":[-0.6407015323638916,0.4719533920288086,1.5846083164215088,2.697263240814209,3.809918165206909,4.922573089599609,6.0352277755737305,7.147883415222168,8.260538101196289,9.37319278717041,10.485847473144531,11.598503112792969,12.71115779876709,13.823812484741211,14.936468124389648,16.049121856689453,17.16177749633789,18.274433135986328,19.387086868286133,20.49974250793457,21.612396240234375,22.725051879882812,23.83770751953125,24.950361251831055,26.063016891479492,27.17567253112793,28.288326263427734,29.400981903076172,30.51363754272461,31.626293182373047,32.73894500732422,33.851600646972656,34.964256286621094,36.07691192626953,37.18956756591797,38.30221939086914,39.41487503051758,40.527530670166016,41.64018630981445,42.75284194946289,43.86549377441406,44.9781494140625,46.09080505371094,47.203460693359375,48.31611633300781,49.42877197265625,50.54142379760742,51.65407943725586,52.7667350769043,53.879390716552734,54.99204635620117,56.104698181152344,57.21735382080078,58.33000946044922,59.442665100097656,60.555320739746094,61.66797637939453,62.7806282043457,63.893287658691406,65.00593566894531,66.11859130859375,67.23124694824219,68.34390258789062,69.45655822753906,70.5692138671875,71.68186950683594,72.79452514648438,73.90718078613281,75.01983642578125,76.13249206542969,77.2451400756836,78.35779571533203,79.47045135498047,80.5831069946289,81.69576263427734,82.80841827392578,83.92107391357422,85.03372955322266,86.1463851928711,87.25904083251953,88.37168884277344,89.48434448242188,90.59700012207031,91.70965576171875,92.82231140136719,93.93496704101562,95.04762268066406,96.1602783203125,97.27293395996094,98.38558959960938,99.49824523925781,100.61089324951172,101.72354888916016,102.8362045288086,103.94886016845703,105.06151580810547,106.1741714477539,107.28682708740234,108.39948272705078,109.51213836669922]}},\"id\":\"0e806104-962b-4892-8c2c-3a8c10c01912\",\"type\":\"ColumnDataSource\"},{\"attributes\":{\"formatter\":{\"id\":\"4b30fd9f-e17b-42ac-a3fd-51b34cbe9bb5\",\"type\":\"BasicTickFormatter\"},\"plot\":{\"id\":\"3fa45e15-8519-4e8d-98e7-8a53c37b4c5d\",\"subtype\":\"Figure\",\"type\":\"Plot\"},\"ticker\":{\"id\":\"b309ed5d-a1e3-46e6-b390-6108622d1b82\",\"type\":\"BasicTicker\"}},\"id\":\"e99519bc-e086-4480-afd0-30fff1edd982\",\"type\":\"LinearAxis\"},{\"attributes\":{\"line_cap\":\"round\",\"line_color\":{\"value\":\"#1f77b4\"},\"line_width\":{\"value\":3},\"x\":{\"field\":\"x\"},\"y\":{\"field\":\"y\"}},\"id\":\"61d8cac3-ef63-45c8-9cb4-8a8e303ec94f\",\"type\":\"Line\"},{\"attributes\":{},\"id\":\"4d2073a6-b865-4ff7-89ba-5ae48b9f740c\",\"type\":\"BasicTickFormatter\"}],\"root_ids\":[\"3fa45e15-8519-4e8d-98e7-8a53c37b4c5d\"]},\"title\":\"Bokeh Application\",\"version\":\"0.12.4\"}};\n",
       "            var render_items = [{\"docid\":\"757f1ed4-2d71-40c5-abd6-8e65c9c06e19\",\"elementid\":\"859f6731-a272-4878-b0d1-660a88091499\",\"modelid\":\"3fa45e15-8519-4e8d-98e7-8a53c37b4c5d\"}];\n",
       "            \n",
       "            Bokeh.embed.embed_items(docs_json, render_items);\n",
       "          };\n",
       "          if (document.readyState != \"loading\") fn();\n",
       "          else document.addEventListener(\"DOMContentLoaded\", fn);\n",
       "        })();\n",
       "      },\n",
       "      function(Bokeh) {\n",
       "      }\n",
       "    ];\n",
       "  \n",
       "    function run_inline_js() {\n",
       "      \n",
       "      if ((window.Bokeh !== undefined) || (force === true)) {\n",
       "        for (var i = 0; i < inline_js.length; i++) {\n",
       "          inline_js[i](window.Bokeh);\n",
       "        }if (force === true) {\n",
       "          display_loaded();\n",
       "        }} else if (Date.now() < window._bokeh_timeout) {\n",
       "        setTimeout(run_inline_js, 100);\n",
       "      } else if (!window._bokeh_failed_load) {\n",
       "        console.log(\"Bokeh: BokehJS failed to load within specified timeout.\");\n",
       "        window._bokeh_failed_load = true;\n",
       "      } else if (force !== true) {\n",
       "        var cell = $(document.getElementById(\"859f6731-a272-4878-b0d1-660a88091499\")).parents('.cell').data().cell;\n",
       "        cell.output_area.append_execute_result(NB_LOAD_WARNING)\n",
       "      }\n",
       "  \n",
       "    }\n",
       "  \n",
       "    if (window._bokeh_is_loading === 0) {\n",
       "      console.log(\"Bokeh: BokehJS loaded, going straight to plotting\");\n",
       "      run_inline_js();\n",
       "    } else {\n",
       "      load_libs(js_urls, function() {\n",
       "        console.log(\"Bokeh: BokehJS plotting callback run at\", now());\n",
       "        run_inline_js();\n",
       "      });\n",
       "    }\n",
       "  }(this));\n",
       "</script>"
      ]
     },
     "metadata": {},
     "output_type": "display_data"
    }
   ],
   "source": [
    "def learn_and_draw(train, train_cnt, x_data, y_data):\n",
    "    for step in range(train_cnt):\n",
    "        se.run(train, feed_dict={X:x_data, Y:y_data})\n",
    "\n",
    "    after_x = []\n",
    "    after_y = []\n",
    "\n",
    "    i = 0\n",
    "    while(i < 100):\n",
    "        result = se.run(hypothesis, feed_dict={X : i})\n",
    "        i = i +1\n",
    "        after_x.append(i)\n",
    "        after_y.append(result[0])\n",
    "\n",
    "    # after_x\n",
    "\n",
    "    p = figure(plot_width=300, plot_height=300, tools=[\"pan,reset,resize\"], title=\"test\")\n",
    "    p.line(x=after_x, y=after_y, line_width=3, line_cap=\"round\")\n",
    "    show(p)\n",
    "    return;\n",
    "\n",
    "learn_and_draw(train, 1, x_data, y_data)"
   ]
  },
  {
   "cell_type": "code",
   "execution_count": null,
   "metadata": {
    "collapsed": true
   },
   "outputs": [],
   "source": []
  }
 ],
 "metadata": {
  "kernelspec": {
   "display_name": "Python 3",
   "language": "python",
   "name": "python3"
  },
  "language_info": {
   "codemirror_mode": {
    "name": "ipython",
    "version": 3
   },
   "file_extension": ".py",
   "mimetype": "text/x-python",
   "name": "python",
   "nbconvert_exporter": "python",
   "pygments_lexer": "ipython3",
   "version": "3.4.3"
  }
 },
 "nbformat": 4,
 "nbformat_minor": 2
}
