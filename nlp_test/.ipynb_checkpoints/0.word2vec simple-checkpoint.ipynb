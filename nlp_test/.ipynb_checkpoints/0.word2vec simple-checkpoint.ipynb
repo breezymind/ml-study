{
 "cells": [
  {
   "cell_type": "code",
   "execution_count": 1,
   "metadata": {
    "collapsed": true
   },
   "outputs": [],
   "source": [
    "# https://ronxin.github.io/wevi/\n",
    "\n",
    "import tensorflow as tf\n",
    "import numpy as np\n",
    "import matplotlib.pyplot as plt\n",
    "import pandas as pd\n",
    "\n",
    "from konlpy.tag import Mecab\n",
    "mecab = Mecab()\n",
    "\n",
    "np.random.seed(777)"
   ]
  },
  {
   "cell_type": "code",
   "execution_count": 2,
   "metadata": {
    "collapsed": false
   },
   "outputs": [],
   "source": [
    "sentences = [\n",
    "\"전자 A 스마트기기 A 아이폰 A\",\n",
    "\"전자 A 스마트기기 A 애플 A\",\n",
    "\"전자 A 스마트기기 A 맥북 A\",\n",
    "\"전자 B 가전기기 B 공기청정기 B\",\n",
    "\"전자 B 가전기기 B 냉장고 B\",\n",
    "\"생활 C 티슈 C\",\n",
    "\"생활 C 기저귀 C\",\n",
    "\"생활 D 쓰레빠 D\",\n",
    "\"생활 D 빗자루 D\",\n",
    "\"생활 D 쓰레받이 D\",\n",
    "\"생활 D 대걸레 D\",\n",
    "\"전자 E 스마트기기 E 갤럭시S E\",\n",
    "\"전자 E 스마트기기 E 갤럭시패드 E\",\n",
    "\"전자 E 스마트기기 E 아이패드 E\",\n",
    "\"생활 F 방향제 F 패브리즈 F\",\n",
    "\"생활 F 청소도구 F 락스 F\",\n",
    "\"생활 F 청소도구 F 팡이제로 F\",\n",
    "]"
   ]
  },
  {
   "cell_type": "code",
   "execution_count": 3,
   "metadata": {
    "collapsed": false
   },
   "outputs": [],
   "source": [
    "# sentence_pos = []\n",
    "# for i in sentences:\n",
    "#     t = []\n",
    "#     for k, p in mecab.pos(i):\n",
    "#         p = p.replace('+','')\n",
    "#         if len(k) > 0:\n",
    "#             t.append('{0}_{1}'.format(k, p))\n",
    "#     sentence_pos.append(' '.join(t))\n",
    "# sentence_pos"
   ]
  },
  {
   "cell_type": "code",
   "execution_count": 4,
   "metadata": {
    "collapsed": false
   },
   "outputs": [
    {
     "data": {
      "text/plain": [
       "['전자 A 스마트기기 A 아이폰 A',\n",
       " '전자 A 스마트기기 A 애플 A',\n",
       " '전자 A 스마트기기 A 맥북 A',\n",
       " '전자 B 가전기기 B 공기청정기 B',\n",
       " '전자 B 가전기기 B 냉장고 B',\n",
       " '생활 C 티슈 C',\n",
       " '생활 C 기저귀 C',\n",
       " '생활 D 쓰레빠 D',\n",
       " '생활 D 빗자루 D',\n",
       " '생활 D 쓰레받이 D',\n",
       " '생활 D 대걸레 D',\n",
       " '전자 E 스마트기기 E 갤럭시S E',\n",
       " '전자 E 스마트기기 E 갤럭시패드 E',\n",
       " '전자 E 스마트기기 E 아이패드 E',\n",
       " '생활 F 방향제 F 패브리즈 F',\n",
       " '생활 F 청소도구 F 락스 F',\n",
       " '생활 F 청소도구 F 팡이제로 F']"
      ]
     },
     "execution_count": 4,
     "metadata": {},
     "output_type": "execute_result"
    }
   ],
   "source": [
    "skimgram = []\n",
    "words_max = 0\n",
    "\n",
    "def get_skimgram(sentence, ws=1):\n",
    "    skip_grams = []\n",
    "    last_idx = len(sentence)-1\n",
    "    for idx, item in enumerate(sentence):\n",
    "        # (context, target) 쌍의 dataset, 관계를 규정할 수 있는 범위로 처리\n",
    "        prev_w_idx = idx-ws\n",
    "        next_w_idx = idx+ws\n",
    "        if prev_w_idx >= 0 and next_w_idx <= last_idx:\n",
    "            target = sentence[idx]\n",
    "            if len(target) > 0 and len(sentence[prev_w_idx]) > 0 and len(sentence[next_w_idx]) > 0:\n",
    "                skip_grams.append([target, sentence[prev_w_idx]])\n",
    "                skip_grams.append([target, sentence[next_w_idx]])\n",
    "\n",
    "    return skip_grams\n",
    "\n",
    "skimgram = get_skimgram(' '.join(sentences).split(' '))\n",
    "skimgram\n",
    "sentences"
   ]
  },
  {
   "cell_type": "code",
   "execution_count": 5,
   "metadata": {
    "collapsed": false
   },
   "outputs": [
    {
     "data": {
      "text/plain": [
       "29"
      ]
     },
     "execution_count": 5,
     "metadata": {},
     "output_type": "execute_result"
    }
   ],
   "source": [
    "word = {}\n",
    "for i in skimgram:\n",
    "    word[i[0]] = 1\n",
    "    word[i[1]] = 1\n",
    "\n",
    "words_max = len(list(word.keys()))\n",
    "words_max"
   ]
  },
  {
   "cell_type": "code",
   "execution_count": 6,
   "metadata": {
    "collapsed": false
   },
   "outputs": [
    {
     "data": {
      "text/plain": [
       "[('<UNK>', 0),\n",
       " ('전자', 1),\n",
       " ('A', 2),\n",
       " ('스마트기기', 3),\n",
       " ('아이폰', 4),\n",
       " ('애플', 5),\n",
       " ('맥북', 6),\n",
       " ('B', 7),\n",
       " ('가전기기', 8),\n",
       " ('공기청정기', 9),\n",
       " ('냉장고', 10),\n",
       " ('생활', 11),\n",
       " ('C', 12),\n",
       " ('티슈', 13),\n",
       " ('기저귀', 14),\n",
       " ('D', 15),\n",
       " ('쓰레빠', 16),\n",
       " ('빗자루', 17),\n",
       " ('쓰레받이', 18),\n",
       " ('대걸레', 19),\n",
       " ('E', 20),\n",
       " ('갤럭시S', 21),\n",
       " ('갤럭시패드', 22),\n",
       " ('아이패드', 23),\n",
       " ('F', 24),\n",
       " ('방향제', 25),\n",
       " ('패브리즈', 26),\n",
       " ('청소도구', 27),\n",
       " ('락스', 28),\n",
       " ('팡이제로', 29)]"
      ]
     },
     "execution_count": 6,
     "metadata": {},
     "output_type": "execute_result"
    }
   ],
   "source": [
    "vocabproc = tf.contrib.learn.preprocessing.VocabularyProcessor(words_max)\n",
    "fit_sentence = vocabproc.fit_transform(sentences)\n",
    "vocab_dict = vocabproc.vocabulary_._mapping\n",
    "word_index = sorted(vocab_dict.items(), key=lambda x: x[1])\n",
    "word_index"
   ]
  },
  {
   "cell_type": "code",
   "execution_count": 7,
   "metadata": {
    "collapsed": false
   },
   "outputs": [],
   "source": [
    "batch_size = 10\n",
    "# batch_size 보다 작아야 합니다.\n",
    "num_sampled = 2\n",
    "embed_size = 2\n",
    "voc_size = len(word_index)"
   ]
  },
  {
   "cell_type": "code",
   "execution_count": 8,
   "metadata": {
    "collapsed": false
   },
   "outputs": [],
   "source": [
    "inputs = tf.placeholder(tf.int32, [batch_size])\n",
    "labels = tf.placeholder(tf.int32, [batch_size, 1])"
   ]
  },
  {
   "cell_type": "code",
   "execution_count": 9,
   "metadata": {
    "collapsed": false
   },
   "outputs": [],
   "source": [
    "embed = tf.Variable(tf.random_uniform([voc_size, embed_size], -1., 1.), name='word_embed')\n",
    "sel_embed = tf.nn.embedding_lookup(embed, inputs)"
   ]
  },
  {
   "cell_type": "code",
   "execution_count": 10,
   "metadata": {
    "collapsed": false
   },
   "outputs": [],
   "source": [
    "nce_weights = tf.Variable(tf.random_uniform([voc_size, embed_size], -1.0, 1.0), name='w')\n",
    "nce_biases = tf.Variable(tf.zeros([voc_size]), name='b')"
   ]
  },
  {
   "cell_type": "code",
   "execution_count": 11,
   "metadata": {
    "collapsed": false
   },
   "outputs": [],
   "source": [
    "loss = tf.reduce_mean(\n",
    "    tf.nn.nce_loss(\n",
    "        weights=nce_weights, \n",
    "        biases=nce_biases, \n",
    "        inputs=sel_embed, \n",
    "        labels=labels, \n",
    "        num_sampled=num_sampled, \n",
    "        num_classes=voc_size\n",
    "    )\n",
    ")"
   ]
  },
  {
   "cell_type": "code",
   "execution_count": 12,
   "metadata": {
    "collapsed": false
   },
   "outputs": [],
   "source": [
    "train = tf.train.AdamOptimizer(0.001).minimize(loss)"
   ]
  },
  {
   "cell_type": "code",
   "execution_count": 13,
   "metadata": {
    "collapsed": false
   },
   "outputs": [
    {
     "data": {
      "text/plain": [
       "{'<UNK>': 0,\n",
       " 'A': 2,\n",
       " 'B': 7,\n",
       " 'C': 12,\n",
       " 'D': 15,\n",
       " 'E': 20,\n",
       " 'F': 24,\n",
       " '가전기기': 8,\n",
       " '갤럭시S': 21,\n",
       " '갤럭시패드': 22,\n",
       " '공기청정기': 9,\n",
       " '기저귀': 14,\n",
       " '냉장고': 10,\n",
       " '대걸레': 19,\n",
       " '락스': 28,\n",
       " '맥북': 6,\n",
       " '방향제': 25,\n",
       " '빗자루': 17,\n",
       " '생활': 11,\n",
       " '스마트기기': 3,\n",
       " '쓰레받이': 18,\n",
       " '쓰레빠': 16,\n",
       " '아이패드': 23,\n",
       " '아이폰': 4,\n",
       " '애플': 5,\n",
       " '전자': 1,\n",
       " '청소도구': 27,\n",
       " '티슈': 13,\n",
       " '팡이제로': 29,\n",
       " '패브리즈': 26}"
      ]
     },
     "execution_count": 13,
     "metadata": {},
     "output_type": "execute_result"
    }
   ],
   "source": [
    "vocab_dict"
   ]
  },
  {
   "cell_type": "code",
   "execution_count": 14,
   "metadata": {
    "collapsed": false
   },
   "outputs": [],
   "source": [
    "def random_batch(data, size):\n",
    "    random_inputs = []\n",
    "    random_labels = []\n",
    "    \n",
    "    for i in (np.random.choice(range(len(data)), size, replace=False)):\n",
    "        random_inputs.append(vocab_dict[data[i][0]])\n",
    "        random_labels.append([vocab_dict[data[i][1]]])\n",
    "            \n",
    "    return random_inputs, random_labels\n",
    "\n",
    "batch_inputs, batch_labels = random_batch(skimgram, batch_size)"
   ]
  },
  {
   "cell_type": "code",
   "execution_count": 15,
   "metadata": {
    "collapsed": false
   },
   "outputs": [
    {
     "name": "stdout",
     "output_type": "stream",
     "text": [
      "epoch  0 :  3.61127\n",
      "epoch  1000 :  1.55156\n",
      "epoch  2000 :  1.16276\n",
      "epoch  3000 :  1.14176\n",
      "epoch  4000 :  0.990287\n",
      "epoch  5000 :  1.45994\n",
      "epoch  6000 :  1.23316\n",
      "epoch  7000 :  0.412043\n",
      "epoch  8000 :  0.635366\n",
      "epoch  9000 :  1.05771\n"
     ]
    }
   ],
   "source": [
    "sess = tf.Session()\n",
    "sess.run(tf.global_variables_initializer())\n",
    "\n",
    "for epoch in range(10000):\n",
    "    batch_inputs, batch_labels = random_batch(skimgram, batch_size)\n",
    "    \n",
    "    _, c = sess.run([train, loss], feed_dict={inputs: batch_inputs, labels: batch_labels})\n",
    "\n",
    "    if epoch % 1000 == 0:\n",
    "        print(\"epoch \", epoch, \": \", c)\n",
    "        \n",
    "train_embed = sess.run(embed)"
   ]
  },
  {
   "cell_type": "code",
   "execution_count": 16,
   "metadata": {
    "collapsed": false,
    "scrolled": true
   },
   "outputs": [
    {
     "data": {
      "image/png": "[encoded data removed]",
      "text/plain": [
       "<matplotlib.figure.Figure at 0x1225f0710>"
      ]
     },
     "metadata": {},
     "output_type": "display_data"
    }
   ],
   "source": [
    "import matplotlib.pyplot as plt\n",
    "\n",
    "plt.rcParams[\"figure.figsize\"] = (10,10)\n",
    "\n",
    "# train_embed = train_embed[1:]\n",
    "# word_index = word_index[1:]\n",
    "\n",
    "for i, label in enumerate(word_index):\n",
    "    x, y = train_embed[i]\n",
    "    plt.scatter(x, y)\n",
    "    plt.annotate(label, xy=(x, y), xytext=(5, 2), textcoords='offset points', ha='right', va='bottom')\n",
    "\n",
    "plt.show()"
   ]
  },
  {
   "cell_type": "code",
   "execution_count": 17,
   "metadata": {
    "collapsed": false
   },
   "outputs": [],
   "source": [
    "# from sklearn.manifold import TSNE\n",
    "# tsne = TSNE(perplexity=30, n_components=2, init='pca', n_iter=5000) \n",
    "# # 여기서 중요한 것은 n_components만큼 차원을 축소함. Cartarian 좌표계로 시각화하기 위해 2차원으로 축소.\n",
    "# vectors_simple = tsne.fit_transform(train_embed)"
   ]
  },
  {
   "cell_type": "code",
   "execution_count": 18,
   "metadata": {
    "collapsed": false
   },
   "outputs": [],
   "source": [
    "sess.close()"
   ]
  },
  {
   "cell_type": "code",
   "execution_count": null,
   "metadata": {
    "collapsed": true
   },
   "outputs": [],
   "source": []
  },
  {
   "cell_type": "code",
   "execution_count": null,
   "metadata": {
    "collapsed": true
   },
   "outputs": [],
   "source": []
  }
 ],
 "metadata": {
  "kernelspec": {
   "display_name": "Python 3",
   "language": "python",
   "name": "python3"
  },
  "language_info": {
   "codemirror_mode": {
    "name": "ipython",
    "version": 3
   },
   "file_extension": ".py",
   "mimetype": "text/x-python",
   "name": "python",
   "nbconvert_exporter": "python",
   "pygments_lexer": "ipython3",
   "version": "3.4.3"
  }
 },
 "nbformat": 4,
 "nbformat_minor": 2
}
