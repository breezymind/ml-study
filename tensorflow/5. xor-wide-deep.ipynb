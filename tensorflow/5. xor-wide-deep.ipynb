{
 "cells": [
  {
   "cell_type": "code",
   "execution_count": 9,
   "metadata": {
    "collapsed": true
   },
   "outputs": [],
   "source": [
    "import tensorflow as tf\n",
    "import numpy as np\n",
    "tf.set_random_seed(777)"
   ]
  },
  {
   "cell_type": "code",
   "execution_count": 10,
   "metadata": {},
   "outputs": [
    {
     "name": "stdout",
     "output_type": "stream",
     "text": [
      "(4, 2)\n",
      "(4, 1)\n"
     ]
    }
   ],
   "source": [
    "x_data = np.array([[0, 0], [0, 1], [1, 0], [1, 1]], dtype=np.float32)\n",
    "y_data = np.array([[0], [1], [1], [0]], dtype=np.float32)\n",
    "print(x_data.shape)\n",
    "print(y_data.shape)"
   ]
  },
  {
   "cell_type": "code",
   "execution_count": 11,
   "metadata": {
    "collapsed": true
   },
   "outputs": [],
   "source": [
    "X = tf.placeholder(tf.float32, [None, 2])\n",
    "Y = tf.placeholder(tf.float32, [None, 1])"
   ]
  },
  {
   "cell_type": "code",
   "execution_count": 12,
   "metadata": {
    "collapsed": true
   },
   "outputs": [],
   "source": [
    "W1 = tf.Variable(tf.random_normal([2, 16]))\n",
    "B1 = tf.Variable(tf.random_normal([16]))\n",
    "L1 = tf.sigmoid(tf.matmul(X, W1)+B1)\n",
    "\n",
    "W2 = tf.Variable(tf.random_normal([16, 16]))\n",
    "B2 = tf.Variable(tf.random_normal([16]))\n",
    "L2 = tf.sigmoid(tf.matmul(L1, W2)+B2)\n",
    "\n",
    "W3 = tf.Variable(tf.random_normal([16, 16]))\n",
    "B3 = tf.Variable(tf.random_normal([16]))\n",
    "L3 = tf.sigmoid(tf.matmul(L2, W3)+B3)\n",
    "\n",
    "W4 = tf.Variable(tf.random_normal([16, 1]))\n",
    "B4 = tf.Variable(tf.random_normal([1]))\n"
   ]
  },
  {
   "cell_type": "code",
   "execution_count": 13,
   "metadata": {
    "collapsed": true
   },
   "outputs": [],
   "source": [
    "H = tf.sigmoid(tf.matmul(L3, W4)+B4)\n",
    "# [] entropy\n",
    "C = -tf.reduce_mean(\n",
    "    (\n",
    "        Y*tf.log(H)\n",
    "    )+(\n",
    "        (1-Y)*tf.log(1-H)\n",
    "    )\n",
    ")"
   ]
  },
  {
   "cell_type": "code",
   "execution_count": 14,
   "metadata": {
    "collapsed": true
   },
   "outputs": [],
   "source": [
    "P = tf.cast(H > 0.5, tf.float32)\n",
    "A = tf.reduce_mean(tf.cast(tf.equal(P, Y), tf.float32))"
   ]
  },
  {
   "cell_type": "code",
   "execution_count": 15,
   "metadata": {
    "collapsed": true
   },
   "outputs": [],
   "source": [
    "T = tf.train.GradientDescentOptimizer(0.01).minimize(C)"
   ]
  },
  {
   "cell_type": "code",
   "execution_count": 16,
   "metadata": {},
   "outputs": [
    {
     "name": "stdout",
     "output_type": "stream",
     "text": [
      "0 0.725659 0.5\n",
      "100 0.656888 0.5\n",
      "200 0.622843 1.0\n",
      "300 0.574976 1.0\n",
      "400 0.499109 1.0\n",
      "500 0.390391 1.0\n",
      "600 0.269008 1.0\n",
      "700 0.172278 1.0\n",
      "800 0.111793 1.0\n",
      "900 0.0766658 1.0\n",
      "1000 0.0557354 1.0\n",
      "1100 0.042563 1.0\n",
      "1200 0.0338041 1.0\n",
      "1300 0.0276939 1.0\n",
      "1400 0.0232565 1.0\n",
      "1500 0.0199239 1.0\n",
      "1600 0.0173496 1.0\n",
      "1700 0.0153133 1.0\n",
      "1800 0.0136696 1.0\n",
      "1900 0.0123195 1.0\n"
     ]
    }
   ],
   "source": [
    "with tf.Session() as sess:\n",
    "    sess.run(tf.global_variables_initializer())\n",
    "    \n",
    "    for epoch in range(2000):\n",
    "        _, c, a = sess.run([T,C,A], feed_dict={X: x_data, Y: y_data})\n",
    "        \n",
    "        if epoch % 100 == 0:\n",
    "            print(epoch, c, a)"
   ]
  },
  {
   "cell_type": "code",
   "execution_count": null,
   "metadata": {
    "collapsed": true
   },
   "outputs": [],
   "source": []
  },
  {
   "cell_type": "code",
   "execution_count": null,
   "metadata": {
    "collapsed": true
   },
   "outputs": [],
   "source": []
  }
 ],
 "metadata": {
  "kernelspec": {
   "display_name": "Python 2",
   "language": "python",
   "name": "python2"
  },
  "language_info": {
   "codemirror_mode": {
    "name": "ipython",
    "version": 2
   },
   "file_extension": ".py",
   "mimetype": "text/x-python",
   "name": "python",
   "nbconvert_exporter": "python",
   "pygments_lexer": "ipython2",
   "version": "2.7.14"
  }
 },
 "nbformat": 4,
 "nbformat_minor": 2
}
