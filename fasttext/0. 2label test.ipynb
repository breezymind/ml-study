{
 "cells": [
  {
   "cell_type": "code",
   "execution_count": 12,
   "metadata": {},
   "outputs": [],
   "source": [
    "import numpy as np\n",
    "import codecs\n",
    "from konlpy.tag import Mecab\n",
    "mecab = Mecab()"
   ]
  },
  {
   "cell_type": "code",
   "execution_count": 13,
   "metadata": {},
   "outputs": [],
   "source": [
    "with open('./nsmc/ratings_train.txt', 'r') as f:\n",
    "    data = [line.split('\\t') for line in f.read().splitlines()]\n",
    "    data = np.asarray(data[1:])"
   ]
  },
  {
   "cell_type": "code",
   "execution_count": 16,
   "metadata": {},
   "outputs": [
    {
     "name": "stdout",
     "output_type": "stream",
     "text": [
      "(150000, 3)\n"
     ]
    },
    {
     "data": {
      "text/plain": [
       "array(['0', '1', '0', ..., '0', '1', '0'],\n",
       "      dtype='<U158')"
      ]
     },
     "execution_count": 16,
     "metadata": {},
     "output_type": "execute_result"
    }
   ],
   "source": [
    "print(data.shape)\n",
    "train_x = data[:,1]\n",
    "train_y = data[:,-1]\n",
    "train_y\n",
    "# http://blog.theeluwin.kr/post/146591096133/%ED%95%9C%EA%B5%AD%EC%96%B4-word2vec"
   ]
  },
  {
   "cell_type": "code",
   "execution_count": 5,
   "metadata": {},
   "outputs": [],
   "source": [
    "corpus = codecs.open('train_corpus.txt', 'w', encoding='utf-8')\n",
    "for l in data:\n",
    "    label = '__label__'+( 'P' if int(l[2]) > 0 else 'N')\n",
    "    words = ' '.join([\n",
    "        '{}_{}'.format(word, tag) for word, tag in mecab.pos(l[1])\n",
    "    ])\n",
    "    corpus.write(('\\t'.join([label, words]))+'\\n')"
   ]
  },
  {
   "cell_type": "code",
   "execution_count": 6,
   "metadata": {},
   "outputs": [],
   "source": [
    "# []"
   ]
  },
  {
   "cell_type": "code",
   "execution_count": 7,
   "metadata": {},
   "outputs": [],
   "source": [
    "import fasttext\n",
    "# https://github.com/salestock/fastText.py"
   ]
  },
  {
   "cell_type": "code",
   "execution_count": 25,
   "metadata": {},
   "outputs": [],
   "source": [
    "classifier = fasttext.supervised('./train_corpus.txt', 'sentiment_model', label_prefix='__label__')"
   ]
  },
  {
   "cell_type": "code",
   "execution_count": 26,
   "metadata": {},
   "outputs": [
    {
     "name": "stdout",
     "output_type": "stream",
     "text": [
      "정확도 : 0.896551724137931\n",
      "테스트수 : 0.896551724137931\n"
     ]
    }
   ],
   "source": [
    "result = classifier.test('./test_corpus.txt')\n",
    "\n",
    "print('정확도 : {}\\n테스트수 : {}'.format(result.precision, result.recall, result.nexamples))"
   ]
  },
  {
   "cell_type": "code",
   "execution_count": 29,
   "metadata": {},
   "outputs": [
    {
     "name": "stdout",
     "output_type": "stream",
     "text": [
      "[['P']] [[('P', 0.751953)]]\n"
     ]
    }
   ],
   "source": [
    "# texts = ['example very long text 1', 'example very longtext 2']\n",
    "def pos(raw):\n",
    "    return ' '.join([\n",
    "        '{}_{}'.format(word, tag) for word, tag in mecab.pos(rawinput)\n",
    "    ])\n",
    "\n",
    "rawinput = '늘 쓰던거라~~ 또 주문했어요 ~ 여기서는 처음 사봤는데 괜찮겠줘뭐~~??가격도 저렴하고 다른곳보다 배송도 해외배송치곤 빠른 편인듯해요~~써보고 똑같거나 좋으면 또 사려고요~~~'\n",
    "\n",
    "rawin = pos([rawinput])\n",
    "labels1 = classifier.predict([rawin])\n",
    "labels2 = classifier.predict_proba([rawin])\n",
    "print(labels1,labels2)"
   ]
  },
  {
   "cell_type": "code",
   "execution_count": null,
   "metadata": {
    "collapsed": true
   },
   "outputs": [],
   "source": []
  }
 ],
 "metadata": {
  "kernelspec": {
   "display_name": "Python 3",
   "language": "python",
   "name": "python3"
  },
  "language_info": {
   "codemirror_mode": {
    "name": "ipython",
    "version": 3
   },
   "file_extension": ".py",
   "mimetype": "text/x-python",
   "name": "python",
   "nbconvert_exporter": "python",
   "pygments_lexer": "ipython3",
   "version": "3.6.2"
  }
 },
 "nbformat": 4,
 "nbformat_minor": 2
}
