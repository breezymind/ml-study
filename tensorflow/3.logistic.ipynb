{
 "cells": [
  {
   "cell_type": "code",
   "execution_count": 4,
   "metadata": {
    "collapsed": true
   },
   "outputs": [],
   "source": [
    "import tensorflow as tf\n",
    "import numpy as np\n",
    "import pandas as pd\n",
    "import math\n",
    "import matplotlib.pyplot as plt\n",
    "from sklearn import preprocessing"
   ]
  },
  {
   "cell_type": "code",
   "execution_count": 5,
   "metadata": {
    "collapsed": false
   },
   "outputs": [
    {
     "data": {
      "text/html": [
       "<div>\n",
       "<table border=\"1\" class=\"dataframe\">\n",
       "  <thead>\n",
       "    <tr style=\"text-align: right;\">\n",
       "      <th></th>\n",
       "      <th>age</th>\n",
       "      <th>lwt</th>\n",
       "      <th>race</th>\n",
       "      <th>smoke</th>\n",
       "      <th>ptl</th>\n",
       "      <th>ht</th>\n",
       "      <th>ui</th>\n",
       "      <th>ftv</th>\n",
       "      <th>bwt</th>\n",
       "      <th>low</th>\n",
       "    </tr>\n",
       "  </thead>\n",
       "  <tbody>\n",
       "    <tr>\n",
       "      <th>0</th>\n",
       "      <td>19.0</td>\n",
       "      <td>182.0</td>\n",
       "      <td>2.0</td>\n",
       "      <td>0.0</td>\n",
       "      <td>0.0</td>\n",
       "      <td>0.0</td>\n",
       "      <td>1.0</td>\n",
       "      <td>0.0</td>\n",
       "      <td>2523.0</td>\n",
       "      <td>0.0</td>\n",
       "    </tr>\n",
       "    <tr>\n",
       "      <th>1</th>\n",
       "      <td>33.0</td>\n",
       "      <td>155.0</td>\n",
       "      <td>3.0</td>\n",
       "      <td>0.0</td>\n",
       "      <td>0.0</td>\n",
       "      <td>0.0</td>\n",
       "      <td>0.0</td>\n",
       "      <td>3.0</td>\n",
       "      <td>2551.0</td>\n",
       "      <td>0.0</td>\n",
       "    </tr>\n",
       "    <tr>\n",
       "      <th>2</th>\n",
       "      <td>20.0</td>\n",
       "      <td>105.0</td>\n",
       "      <td>1.0</td>\n",
       "      <td>1.0</td>\n",
       "      <td>0.0</td>\n",
       "      <td>0.0</td>\n",
       "      <td>0.0</td>\n",
       "      <td>1.0</td>\n",
       "      <td>2557.0</td>\n",
       "      <td>0.0</td>\n",
       "    </tr>\n",
       "    <tr>\n",
       "      <th>3</th>\n",
       "      <td>21.0</td>\n",
       "      <td>108.0</td>\n",
       "      <td>1.0</td>\n",
       "      <td>1.0</td>\n",
       "      <td>0.0</td>\n",
       "      <td>0.0</td>\n",
       "      <td>1.0</td>\n",
       "      <td>2.0</td>\n",
       "      <td>2594.0</td>\n",
       "      <td>0.0</td>\n",
       "    </tr>\n",
       "    <tr>\n",
       "      <th>4</th>\n",
       "      <td>18.0</td>\n",
       "      <td>107.0</td>\n",
       "      <td>1.0</td>\n",
       "      <td>1.0</td>\n",
       "      <td>0.0</td>\n",
       "      <td>0.0</td>\n",
       "      <td>1.0</td>\n",
       "      <td>0.0</td>\n",
       "      <td>2600.0</td>\n",
       "      <td>0.0</td>\n",
       "    </tr>\n",
       "  </tbody>\n",
       "</table>\n",
       "</div>"
      ],
      "text/plain": [
       "    age    lwt  race  smoke  ptl   ht   ui  ftv     bwt  low\n",
       "0  19.0  182.0   2.0    0.0  0.0  0.0  1.0  0.0  2523.0  0.0\n",
       "1  33.0  155.0   3.0    0.0  0.0  0.0  0.0  3.0  2551.0  0.0\n",
       "2  20.0  105.0   1.0    1.0  0.0  0.0  0.0  1.0  2557.0  0.0\n",
       "3  21.0  108.0   1.0    1.0  0.0  0.0  1.0  2.0  2594.0  0.0\n",
       "4  18.0  107.0   1.0    1.0  0.0  0.0  1.0  0.0  2600.0  0.0"
      ]
     },
     "execution_count": 5,
     "metadata": {},
     "output_type": "execute_result"
    }
   ],
   "source": [
    "# 어머니 연령\n",
    "# 마지막 생리 기간 무게\n",
    "# 인종 (1 = 흰색, 2 = 검정, 3 = 기타)\n",
    "# 임신 중 흡연 상태 (1 = 예, 0 = 아니오) 흡연\n",
    "# 조기 노동의 역사 (0 = 없음 1 = 1 등) PTL\n",
    "# 고혈압 병력 (1 = 예, 0 = 아니오)\n",
    "# 자궁 감응성의 존재 (1 = 예, 0 = 아니오) UI\n",
    "# 첫 번째 삼량 체 FTV 동안 의사 방문 횟수 (0 = 없음, 1 = 1, 2 = 2 등)\n",
    "# 체중\n",
    "# 저체중아 (0 = 출생 체중> = 2500g, LOW 1 = 출생 체중 <2500g)\n",
    "\n",
    "data = pd.read_csv(\n",
    "    './dataset/logistic.txt', \n",
    "    skiprows=11, \n",
    "    delimiter=',', \n",
    "    dtype=np.float32, \n",
    "    names=['age','lwt','race','smoke','ptl','ht','ui','ftv','bwt','low']\n",
    ")\n",
    "data.head()"
   ]
  },
  {
   "cell_type": "code",
   "execution_count": 6,
   "metadata": {
    "collapsed": false
   },
   "outputs": [],
   "source": [
    "train_size=math.floor(0.8*len(data))\n",
    "train_data, test_data = data.head(train_size), data.tail(len(data)-train_size)"
   ]
  },
  {
   "cell_type": "code",
   "execution_count": 7,
   "metadata": {
    "collapsed": false
   },
   "outputs": [
    {
     "data": {
      "text/html": [
       "<div>\n",
       "<table border=\"1\" class=\"dataframe\">\n",
       "  <thead>\n",
       "    <tr style=\"text-align: right;\">\n",
       "      <th></th>\n",
       "      <th>age</th>\n",
       "      <th>lwt</th>\n",
       "      <th>race</th>\n",
       "      <th>smoke</th>\n",
       "      <th>ptl</th>\n",
       "      <th>ht</th>\n",
       "      <th>ui</th>\n",
       "      <th>ftv</th>\n",
       "      <th>bwt</th>\n",
       "      <th>low</th>\n",
       "    </tr>\n",
       "  </thead>\n",
       "  <tbody>\n",
       "    <tr>\n",
       "      <th>0</th>\n",
       "      <td>19.0</td>\n",
       "      <td>182.0</td>\n",
       "      <td>2.0</td>\n",
       "      <td>0.0</td>\n",
       "      <td>0.0</td>\n",
       "      <td>0.0</td>\n",
       "      <td>1.0</td>\n",
       "      <td>0.0</td>\n",
       "      <td>2523.0</td>\n",
       "      <td>0.0</td>\n",
       "    </tr>\n",
       "    <tr>\n",
       "      <th>1</th>\n",
       "      <td>33.0</td>\n",
       "      <td>155.0</td>\n",
       "      <td>3.0</td>\n",
       "      <td>0.0</td>\n",
       "      <td>0.0</td>\n",
       "      <td>0.0</td>\n",
       "      <td>0.0</td>\n",
       "      <td>3.0</td>\n",
       "      <td>2551.0</td>\n",
       "      <td>0.0</td>\n",
       "    </tr>\n",
       "    <tr>\n",
       "      <th>2</th>\n",
       "      <td>20.0</td>\n",
       "      <td>105.0</td>\n",
       "      <td>1.0</td>\n",
       "      <td>1.0</td>\n",
       "      <td>0.0</td>\n",
       "      <td>0.0</td>\n",
       "      <td>0.0</td>\n",
       "      <td>1.0</td>\n",
       "      <td>2557.0</td>\n",
       "      <td>0.0</td>\n",
       "    </tr>\n",
       "    <tr>\n",
       "      <th>3</th>\n",
       "      <td>21.0</td>\n",
       "      <td>108.0</td>\n",
       "      <td>1.0</td>\n",
       "      <td>1.0</td>\n",
       "      <td>0.0</td>\n",
       "      <td>0.0</td>\n",
       "      <td>1.0</td>\n",
       "      <td>2.0</td>\n",
       "      <td>2594.0</td>\n",
       "      <td>0.0</td>\n",
       "    </tr>\n",
       "    <tr>\n",
       "      <th>4</th>\n",
       "      <td>18.0</td>\n",
       "      <td>107.0</td>\n",
       "      <td>1.0</td>\n",
       "      <td>1.0</td>\n",
       "      <td>0.0</td>\n",
       "      <td>0.0</td>\n",
       "      <td>1.0</td>\n",
       "      <td>0.0</td>\n",
       "      <td>2600.0</td>\n",
       "      <td>0.0</td>\n",
       "    </tr>\n",
       "  </tbody>\n",
       "</table>\n",
       "</div>"
      ],
      "text/plain": [
       "    age    lwt  race  smoke  ptl   ht   ui  ftv     bwt  low\n",
       "0  19.0  182.0   2.0    0.0  0.0  0.0  1.0  0.0  2523.0  0.0\n",
       "1  33.0  155.0   3.0    0.0  0.0  0.0  0.0  3.0  2551.0  0.0\n",
       "2  20.0  105.0   1.0    1.0  0.0  0.0  0.0  1.0  2557.0  0.0\n",
       "3  21.0  108.0   1.0    1.0  0.0  0.0  1.0  2.0  2594.0  0.0\n",
       "4  18.0  107.0   1.0    1.0  0.0  0.0  1.0  0.0  2600.0  0.0"
      ]
     },
     "execution_count": 7,
     "metadata": {},
     "output_type": "execute_result"
    }
   ],
   "source": [
    "train_data.head()"
   ]
  },
  {
   "cell_type": "code",
   "execution_count": 8,
   "metadata": {
    "collapsed": false
   },
   "outputs": [],
   "source": [
    "# test_data.head()"
   ]
  },
  {
   "cell_type": "code",
   "execution_count": 9,
   "metadata": {
    "collapsed": false
   },
   "outputs": [
    {
     "name": "stdout",
     "output_type": "stream",
     "text": [
      "(151, 7)\n",
      "(151, 1)\n"
     ]
    }
   ],
   "source": [
    "del train_data['lwt']\n",
    "del train_data['bwt']\n",
    "del test_data['lwt']\n",
    "del test_data['bwt']\n",
    "\n",
    "t_x = train_data.ix[:,:-1].values\n",
    "t_y = train_data.ix[:,-1].values\n",
    "t_y = t_y.reshape(t_y.shape[0], 1)\n",
    "print(t_x.shape)\n",
    "print(t_y.shape)\n",
    "# t_x\n",
    "# t_y\n",
    "\n",
    "tt_x = test_data.ix[:,:-1].values\n",
    "tt_y = test_data.ix[:,-1].values\n",
    "tt_y = tt_y.reshape(tt_y.shape[0], 1)"
   ]
  },
  {
   "cell_type": "code",
   "execution_count": 18,
   "metadata": {
    "collapsed": false
   },
   "outputs": [
    {
     "data": {
      "text/plain": [
       "7"
      ]
     },
     "execution_count": 18,
     "metadata": {},
     "output_type": "execute_result"
    }
   ],
   "source": [
    "len(t_x[0])"
   ]
  },
  {
   "cell_type": "code",
   "execution_count": 30,
   "metadata": {
    "collapsed": false
   },
   "outputs": [],
   "source": [
    "X = tf.placeholder(tf.float32, [None, 7])\n",
    "Y = tf.placeholder(tf.float32, [None, 1])\n",
    "W = tf.Variable(tf.random_normal([7, 1]), tf.float32)\n",
    "# W = tf.get_variable('W', shape=[7,1], initializer=tf.contrib.layers.xavier_initializer())\n",
    "B = tf.Variable(tf.random_normal([1]), tf.float32)"
   ]
  },
  {
   "cell_type": "code",
   "execution_count": 31,
   "metadata": {
    "collapsed": true
   },
   "outputs": [],
   "source": [
    "L = tf.matmul(X,W)+B\n",
    "H = tf.sigmoid(L)\n",
    "# entropy \n",
    "C = -tf.reduce_mean(\n",
    "    (Y * tf.log(H)) \n",
    "    + \n",
    "    ((1-Y) * tf.log(1-H))\n",
    ")"
   ]
  },
  {
   "cell_type": "code",
   "execution_count": 37,
   "metadata": {
    "collapsed": true
   },
   "outputs": [],
   "source": [
    "T = tf.train.GradientDescentOptimizer(0.01).minimize(C)\n",
    "# T = tf.train.AdamOptimizer(0.01).minimize(C)"
   ]
  },
  {
   "cell_type": "code",
   "execution_count": 38,
   "metadata": {
    "collapsed": true
   },
   "outputs": [],
   "source": [
    "P = tf.cast(H > 0.5, tf.float32)\n",
    "A = tf.reduce_mean(tf.cast(tf.equal(P, Y), tf.float32))"
   ]
  },
  {
   "cell_type": "code",
   "execution_count": 39,
   "metadata": {
    "collapsed": false
   },
   "outputs": [
    {
     "name": "stdout",
     "output_type": "stream",
     "text": [
      "0.48175\n",
      "0.359233\n",
      "0.340623\n",
      "0.335318\n",
      "0.334128\n",
      "0.333939\n",
      "0.333919\n",
      "0.333918\n",
      "0.333918\n",
      "0.333918\n",
      "0.333918\n",
      "0.333918\n",
      "0.333919\n",
      "0.333918\n",
      "0.33392\n",
      "0.333918\n",
      "0.333918\n",
      "0.333918\n",
      "0.333918\n",
      "0.333918\n",
      "0.33392\n",
      "0.333918\n",
      "0.333918\n",
      "0.333918\n",
      "0.333918\n",
      "0.33394\n",
      "0.333918\n",
      "0.333918\n",
      "0.333918\n",
      "0.333918\n",
      "0.333918\n",
      "0.333918\n",
      "0.333918\n",
      "0.333926\n"
     ]
    }
   ],
   "source": [
    "history = {\n",
    "    'weight' : [],\n",
    "    'cost' : [],\n",
    "}\n",
    "\n",
    "sess = tf.Session()\n",
    "sess.run(tf.global_variables_initializer())\n",
    "\n",
    "for epoch in range(10000):\n",
    "    _, c, w = sess.run([T, C, W], feed_dict={X: t_x, Y: t_y})\n",
    "    \n",
    "    history['weight'].append(w)\n",
    "    history['cost'].append(c)\n",
    "    \n",
    "    if epoch % 300 == 0:\n",
    "        print(c)"
   ]
  },
  {
   "cell_type": "code",
   "execution_count": 41,
   "metadata": {
    "collapsed": false
   },
   "outputs": [
    {
     "name": "stdout",
     "output_type": "stream",
     "text": [
      "       cost    weight\n",
      "0  0.481750 -0.230967\n",
      "1  0.476758 -0.224963\n",
      "2  0.476808 -0.220949\n",
      "3  0.475930 -0.217935\n",
      "4  0.473528 -0.215281\n"
     ]
    },
    {
     "data": {
      "image/png": "[encoded data removed]",
      "text/plain": [
       "<matplotlib.figure.Figure at 0x112c2be80>"
      ]
     },
     "metadata": {},
     "output_type": "display_data"
    },
    {
     "data": {
      "text/plain": [
       "[0.86754966]"
      ]
     },
     "execution_count": 41,
     "metadata": {},
     "output_type": "execute_result"
    }
   ],
   "source": [
    "# .plot(kind='scatter', x='w_people', y='cost', ax=axes[0], grid=1)\n",
    "# history\n",
    "res = pd.DataFrame(history)\n",
    "res.weight = res.weight.map(lambda x: x.mean())\n",
    "print(res.head())\n",
    "\n",
    "res.cost.plot()\n",
    "plt.show()\n",
    "\n",
    "# tt_x\n",
    "a = sess.run([A], feed_dict={X: t_x, Y: t_y})\n",
    "# history['accuracy'].append(a)\n",
    "a\n",
    "# plt.plot(np.linspace(0.,1.,len(res.cost)), a)\n",
    "# plt.show()"
   ]
  },
  {
   "cell_type": "code",
   "execution_count": 42,
   "metadata": {
    "collapsed": true
   },
   "outputs": [],
   "source": [
    "sess.close()"
   ]
  },
  {
   "cell_type": "code",
   "execution_count": null,
   "metadata": {
    "collapsed": true
   },
   "outputs": [],
   "source": []
  }
 ],
 "metadata": {
  "kernelspec": {
   "display_name": "Python 3",
   "language": "python",
   "name": "python3"
  },
  "language_info": {
   "codemirror_mode": {
    "name": "ipython",
    "version": 3
   },
   "file_extension": ".py",
   "mimetype": "text/x-python",
   "name": "python",
   "nbconvert_exporter": "python",
   "pygments_lexer": "ipython3",
   "version": "3.4.3"
  }
 },
 "nbformat": 4,
 "nbformat_minor": 2
}
