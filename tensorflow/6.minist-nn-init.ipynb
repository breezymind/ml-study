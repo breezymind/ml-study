{
 "cells": [
  {
   "cell_type": "code",
   "execution_count": 1,
   "metadata": {},
   "outputs": [],
   "source": [
    "import tensorflow as tf\n",
    "import numpy as np"
   ]
  },
  {
   "cell_type": "code",
   "execution_count": 2,
   "metadata": {},
   "outputs": [],
   "source": [
    "np.random.seed(777)"
   ]
  },
  {
   "cell_type": "code",
   "execution_count": 3,
   "metadata": {},
   "outputs": [
    {
     "name": "stdout",
     "output_type": "stream",
     "text": [
      "Extracting ./dataset/minist/train-images-idx3-ubyte.gz\n",
      "Extracting ./dataset/minist/train-labels-idx1-ubyte.gz\n",
      "Extracting ./dataset/minist/t10k-images-idx3-ubyte.gz\n",
      "Extracting ./dataset/minist/t10k-labels-idx1-ubyte.gz\n"
     ]
    }
   ],
   "source": [
    "from tensorflow.examples.tutorials.mnist import input_data\n",
    "minist = input_data.read_data_sets('./dataset/minist/', one_hot=True)"
   ]
  },
  {
   "cell_type": "code",
   "execution_count": 4,
   "metadata": {},
   "outputs": [
    {
     "name": "stdout",
     "output_type": "stream",
     "text": [
      "(55000, 784)\n",
      "(55000, 10)\n"
     ]
    },
    {
     "data": {
      "text/plain": [
       "55000"
      ]
     },
     "execution_count": 4,
     "metadata": {},
     "output_type": "execute_result"
    }
   ],
   "source": [
    "print(minist.train.images.shape)\n",
    "print(minist.train.labels.shape)\n",
    "minist.train.num_examples"
   ]
  },
  {
   "cell_type": "code",
   "execution_count": 5,
   "metadata": {},
   "outputs": [
    {
     "name": "stdout",
     "output_type": "stream",
     "text": [
      "(10000, 784)\n",
      "(10000, 10)\n"
     ]
    },
    {
     "data": {
      "text/plain": [
       "10000"
      ]
     },
     "execution_count": 5,
     "metadata": {},
     "output_type": "execute_result"
    }
   ],
   "source": [
    "print(minist.test.images.shape)\n",
    "print(minist.test.labels.shape)\n",
    "minist.test.num_examples"
   ]
  },
  {
   "cell_type": "code",
   "execution_count": 6,
   "metadata": {},
   "outputs": [],
   "source": [
    "batch_size = 100\n",
    "len_epoch = 1000\n",
    "rate = 0.1"
   ]
  },
  {
   "cell_type": "code",
   "execution_count": 7,
   "metadata": {},
   "outputs": [],
   "source": [
    "X = tf.placeholder(tf.float32, [None, 784])\n",
    "Y = tf.placeholder(tf.float32, [None, 10])\n",
    "KB = tf.placeholder(tf.float32)"
   ]
  },
  {
   "cell_type": "code",
   "execution_count": 8,
   "metadata": {},
   "outputs": [],
   "source": [
    "# W1 = tf.Variable(tf.random_normal([784, 256]))\n",
    "# W2 = tf.Variable(tf.random_normal([256, 256]))\n",
    "# W3 = tf.Variable(tf.random_normal([256, 10]))\n",
    "\n",
    "W1 = tf.get_variable('W1', [784, 256], initializer=tf.contrib.layers.xavier_initializer())\n",
    "W2 = tf.get_variable('W2', [256, 256], initializer=tf.contrib.layers.xavier_initializer())\n",
    "W3 = tf.get_variable('W3', [256, 10], initializer=tf.contrib.layers.xavier_initializer())\n",
    "\n",
    "B1 = tf.Variable(tf.random_normal([256]))\n",
    "B2 = tf.Variable(tf.random_normal([256]))\n",
    "B3 = tf.Variable(tf.random_normal([10]))\n",
    "\n",
    "L1 = tf.nn.relu(tf.matmul(X, W1)+B1)\n",
    "L1 = tf.nn.dropout(L1, keep_prob=KB)\n",
    "\n",
    "L2 = tf.nn.relu(tf.matmul(L1, W2)+B2)\n",
    "L2 = tf.nn.dropout(L2, keep_prob=KB)\n",
    "\n",
    "H = tf.matmul(L2, W3)+B3"
   ]
  },
  {
   "cell_type": "code",
   "execution_count": 9,
   "metadata": {},
   "outputs": [],
   "source": [
    "C = tf.reduce_mean(\n",
    "    tf.nn.softmax_cross_entropy_with_logits(logits=H, labels=Y)\n",
    ")\n",
    "\n",
    "# H = tf.nn.softmax(tf.matmul(X, W) + b)\n",
    "# C = tf.reduce_mean(-tf.reduce_sum(Y*tf.log(H), axis=1))"
   ]
  },
  {
   "cell_type": "code",
   "execution_count": 10,
   "metadata": {},
   "outputs": [],
   "source": [
    "T = tf.train.AdamOptimizer(rate).minimize(C)"
   ]
  },
  {
   "cell_type": "code",
   "execution_count": 11,
   "metadata": {},
   "outputs": [
    {
     "name": "stdout",
     "output_type": "stream",
     "text": [
      "WARNING:tensorflow:From <ipython-input-11-70c883694971>:2: arg_max (from tensorflow.python.ops.gen_math_ops) is deprecated and will be removed in a future version.\n",
      "Instructions for updating:\n",
      "Use `argmax` instead\n"
     ]
    }
   ],
   "source": [
    "P = tf.equal(\n",
    "    (tf.arg_max(H, 1)), \n",
    "    (tf.arg_max(Y, 1))\n",
    ")\n",
    "A = tf.reduce_mean(tf.cast(P, tf.float32))"
   ]
  },
  {
   "cell_type": "code",
   "execution_count": 12,
   "metadata": {},
   "outputs": [],
   "source": [
    "# cost 94%\n",
    "# cost 98%"
   ]
  },
  {
   "cell_type": "code",
   "execution_count": 13,
   "metadata": {},
   "outputs": [
    {
     "name": "stdout",
     "output_type": "stream",
     "text": [
      "Epoch: 0001 cost = 2.687\n",
      "Epoch: 0002 cost = 1.882\n",
      "Epoch: 0003 cost = 1.948\n",
      "Epoch: 0004 cost = 1.959\n",
      "Epoch: 0005 cost = 2.042\n",
      "Epoch: 0006 cost = 2.137\n",
      "Epoch: 0007 cost = 2.149\n",
      "Epoch: 0008 cost = 2.157\n",
      "Epoch: 0009 cost = 2.168\n",
      "Epoch: 0010 cost = 2.271\n",
      "Epoch: 0011 cost = 2.281\n",
      "Epoch: 0012 cost = 2.251\n",
      "Epoch: 0013 cost = 2.198\n",
      "Epoch: 0014 cost = 2.238\n",
      "Epoch: 0015 cost = 2.232\n",
      "0.1534000039100647 %\n"
     ]
    }
   ],
   "source": [
    "sess = tf.Session()\n",
    "\n",
    "sess.run(tf.global_variables_initializer())\n",
    "\n",
    "for epoch in range(15):\n",
    "    avg_cost = 0\n",
    "\n",
    "    total_batch = int(minist.train.num_examples / batch_size)\n",
    "\n",
    "    for i in range(total_batch):\n",
    "        trainx, trainy = minist.train.next_batch(100)\n",
    "        _, c = sess.run([T, C], feed_dict={X: trainx, Y: trainy, KB: 0.7})\n",
    "\n",
    "        avg_cost += c / total_batch\n",
    "\n",
    "    print('Epoch:', '%04d' % (epoch + 1), 'cost =', '{:.3f}'.format(avg_cost))\n",
    "\n",
    "a = sess.run(A, feed_dict={X: minist.test.images, Y: minist.test.labels, KB: 1})\n",
    "print('{0} %'.format(a))"
   ]
  },
  {
   "cell_type": "code",
   "execution_count": 14,
   "metadata": {},
   "outputs": [
    {
     "data": {
      "text/plain": [
       "4"
      ]
     },
     "execution_count": 14,
     "metadata": {},
     "output_type": "execute_result"
    }
   ],
   "source": [
    "h = sess.run(H, feed_dict={X: [minist.test.images[0]] ,KB: 1})\n",
    "# len(h)\n",
    "h\n",
    "np.argmax(h)\n",
    "# minist.test.labels[0]"
   ]
  },
  {
   "cell_type": "code",
   "execution_count": null,
   "metadata": {},
   "outputs": [],
   "source": []
  }
 ],
 "metadata": {
  "kernelspec": {
   "display_name": "Python 3",
   "language": "python",
   "name": "python3"
  },
  "language_info": {
   "codemirror_mode": {
    "name": "ipython",
    "version": 3
   },
   "file_extension": ".py",
   "mimetype": "text/x-python",
   "name": "python",
   "nbconvert_exporter": "python",
   "pygments_lexer": "ipython3",
   "version": "3.5.0"
  }
 },
 "nbformat": 4,
 "nbformat_minor": 2
}
