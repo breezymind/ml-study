{
 "cells": [
  {
   "cell_type": "code",
   "execution_count": 1,
   "metadata": {
    "collapsed": true
   },
   "outputs": [],
   "source": [
    "from konlpy.utils import pprint\n",
    "from gensim.models import word2vec"
   ]
  },
  {
   "cell_type": "code",
   "execution_count": 30,
   "metadata": {
    "collapsed": false
   },
   "outputs": [],
   "source": [
    "import pickle\n",
    "with open('./data/tokenize_filter','rb') as fs_pos:\n",
    "    pos = pickle.load(fs_pos)"
   ]
  },
  {
   "cell_type": "code",
   "execution_count": null,
   "metadata": {
    "collapsed": false
   },
   "outputs": [],
   "source": [
    "import multiprocessing\n",
    "\n",
    "model = word2vec.Word2Vec(pos, \\\n",
    "   window    = 5,                  # Context window size \n",
    "#    sample    = downsampling,\n",
    "    size        = 300,             # 300차원짜리 벡터스페이스에 embedding\n",
    "    min_count   = 10,              # 등장 횟수가 10 이하인 단어는 무시\n",
    "    sg          = 1,               # 0이면 CBOW, 1이면 skip-gram을 사용한다\n",
    "    batch_words = 10000,           # 사전을 구축할때 한번에 읽을 단어 수\n",
    "    workers     = multiprocessing.cpu_count(),\n",
    "    iter        = 200              # 보통 딥러닝에서 말하는 epoch과 비슷한, 반복 횟수\n",
    "    )"
   ]
  },
  {
   "cell_type": "code",
   "execution_count": null,
   "metadata": {
    "collapsed": true
   },
   "outputs": [],
   "source": [
    "model.init_sims(replace=True)\n",
    "model.save('./model/daily_news_test')"
   ]
  },
  {
   "cell_type": "code",
   "execution_count": null,
   "metadata": {
    "collapsed": false
   },
   "outputs": [],
   "source": [
    "pprint(model.index2word[:100])"
   ]
  },
  {
   "cell_type": "code",
   "execution_count": null,
   "metadata": {
    "collapsed": true
   },
   "outputs": [],
   "source": []
  }
 ],
 "metadata": {
  "kernelspec": {
   "display_name": "Python 3",
   "language": "python",
   "name": "python3"
  },
  "language_info": {
   "codemirror_mode": {
    "name": "ipython",
    "version": 3
   },
   "file_extension": ".py",
   "mimetype": "text/x-python",
   "name": "python",
   "nbconvert_exporter": "python",
   "pygments_lexer": "ipython3",
   "version": "3.4.3"
  }
 },
 "nbformat": 4,
 "nbformat_minor": 2
}
