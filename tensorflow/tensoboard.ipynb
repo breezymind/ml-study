{
 "cells": [
  {
   "cell_type": "code",
   "execution_count": 55,
   "metadata": {
    "collapsed": true
   },
   "outputs": [],
   "source": [
    "import tensorflow as tf\n",
    "import numpy as np"
   ]
  },
  {
   "cell_type": "code",
   "execution_count": 56,
   "metadata": {
    "collapsed": true
   },
   "outputs": [],
   "source": [
    "np.random.seed(777)"
   ]
  },
  {
   "cell_type": "code",
   "execution_count": 57,
   "metadata": {},
   "outputs": [
    {
     "name": "stdout",
     "output_type": "stream",
     "text": [
      "(4, 2)\n",
      "(4, 1)\n"
     ]
    }
   ],
   "source": [
    "x_data = np.array([[0, 0], [0, 1], [1, 0], [1, 1]], dtype=np.float32)\n",
    "y_data = np.array([[0], [1], [1], [0]], dtype=np.float32)\n",
    "print(x_data.shape)\n",
    "print(y_data.shape)"
   ]
  },
  {
   "cell_type": "code",
   "execution_count": 58,
   "metadata": {
    "collapsed": true
   },
   "outputs": [],
   "source": [
    "X = tf.placeholder(tf.float32, [None, 2], name=\"X\")\n",
    "Y = tf.placeholder(tf.float32, [None, 1], name=\"Y\")"
   ]
  },
  {
   "cell_type": "code",
   "execution_count": 59,
   "metadata": {},
   "outputs": [],
   "source": [
    "with tf.name_scope('Layer1'):\n",
    "    W1 = tf.Variable(tf.random_normal([2, 16]), tf.float32, name=\"W1\")\n",
    "    B1 = tf.Variable(tf.random_normal([16]), tf.float32, name=\"B1\")\n",
    "    L1 = tf.sigmoid(tf.matmul(X, W1) + B1, name=\"L1\")\n",
    "\n",
    "with tf.name_scope('Layer2'):\n",
    "    W2 = tf.Variable(tf.random_normal([16, 16]), tf.float32, name=\"W2\")\n",
    "    B2 = tf.Variable(tf.random_normal([16]), tf.float32, name=\"B2\")\n",
    "    L2 = tf.sigmoid(tf.matmul(L1, W2) + B2, name=\"L2\")\n",
    "\n",
    "with tf.name_scope('Layer3'):\n",
    "    W3 = tf.Variable(tf.random_normal([16, 16]), tf.float32, name=\"W3\")\n",
    "    B3 = tf.Variable(tf.random_normal([16]), tf.float32, name=\"B3\")\n",
    "    L3 = tf.sigmoid(tf.matmul(L2, W3) + B3, name=\"L3\")\n",
    "\n",
    "with tf.name_scope('Layer4'):\n",
    "    W4 = tf.Variable(tf.random_normal([16, 1]), tf.float32, name=\"W4\")\n",
    "    B4 = tf.Variable(tf.random_normal([1]), tf.float32, name=\"B4\")\n",
    "    H = tf.sigmoid(tf.matmul(L3, W4)+B4, name=\"H\")"
   ]
  },
  {
   "cell_type": "code",
   "execution_count": 60,
   "metadata": {},
   "outputs": [
    {
     "data": {
      "text/plain": [
       "<tf.Tensor 'H4_1:0' shape=() dtype=string>"
      ]
     },
     "execution_count": 60,
     "metadata": {},
     "output_type": "execute_result"
    }
   ],
   "source": [
    "# tf.summary.histogram('H1', L1)\n",
    "# tf.summary.histogram('H2', L2)\n",
    "# tf.summary.histogram('H3', L3)\n",
    "# tf.summary.histogram('H4', H)"
   ]
  },
  {
   "cell_type": "code",
   "execution_count": 64,
   "metadata": {
    "collapsed": true
   },
   "outputs": [],
   "source": [
    "with tf.name_scope('COST'):\n",
    "    # cross entropy\n",
    "    # tf.reduce_mean(\n",
    "    #     -tf.reduce_sum(Y*tf.log(H))\n",
    "    # )\n",
    "    # entropy\n",
    "    C = -tf.reduce_mean(\n",
    "        (Y*tf.log(H))+((1-Y)*tf.log(1-H))\n",
    "    )\n",
    "    T = tf.train.GradientDescentOptimizer(0.1).minimize(C)\n",
    "#     tf.summary.scalar('COST', C)"
   ]
  },
  {
   "cell_type": "code",
   "execution_count": 65,
   "metadata": {
    "collapsed": true
   },
   "outputs": [],
   "source": [
    "P = tf.cast(H > 0.5, tf.float32)\n",
    "A = tf.reduce_mean(tf.cast(tf.equal(P, Y), tf.float32))"
   ]
  },
  {
   "cell_type": "code",
   "execution_count": 66,
   "metadata": {},
   "outputs": [
    {
     "name": "stdout",
     "output_type": "stream",
     "text": [
      "1.21897\n",
      "0.66414\n",
      "0.614726\n",
      "0.539332\n",
      "0.431352\n",
      "0.303805\n",
      "0.194521\n",
      "0.123989\n",
      "0.0833263\n",
      "0.0596289\n"
     ]
    }
   ],
   "source": [
    "with tf.Session() as sess:\n",
    "    sess.run(tf.global_variables_initializer())\n",
    "    \n",
    "#     writer = tf.summary.FileWriter('../logs/tb', sess.graph)\n",
    "#     merged = tf.summary.merge_all()\n",
    "    \n",
    "    for epoch in range(1000):\n",
    "        _, c = sess.run([T, C], feed_dict={X: x_data, Y: y_data})\n",
    "        \n",
    "        if epoch % 100 == 0:\n",
    "            print(c)\n",
    "        \n",
    "#         summary, a = sess.run([merged, A], feed_dict={X: x_data, Y: y_data})\n",
    "#         writer.add_summary(summary, epoch)"
   ]
  },
  {
   "cell_type": "code",
   "execution_count": null,
   "metadata": {
    "collapsed": true
   },
   "outputs": [],
   "source": []
  },
  {
   "cell_type": "code",
   "execution_count": null,
   "metadata": {
    "collapsed": true
   },
   "outputs": [],
   "source": []
  }
 ],
 "metadata": {
  "kernelspec": {
   "display_name": "Python 2",
   "language": "python",
   "name": "python2"
  },
  "language_info": {
   "codemirror_mode": {
    "name": "ipython",
    "version": 2
   },
   "file_extension": ".py",
   "mimetype": "text/x-python",
   "name": "python",
   "nbconvert_exporter": "python",
   "pygments_lexer": "ipython2",
   "version": "2.7.14"
  }
 },
 "nbformat": 4,
 "nbformat_minor": 2
}
