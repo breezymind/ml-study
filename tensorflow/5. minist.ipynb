{
 "cells": [
  {
   "cell_type": "code",
   "execution_count": 525,
   "metadata": {
    "collapsed": true
   },
   "outputs": [],
   "source": [
    "import tensorflow as tf\n",
    "import numpy as np"
   ]
  },
  {
   "cell_type": "code",
   "execution_count": 526,
   "metadata": {
    "collapsed": true
   },
   "outputs": [],
   "source": [
    "np.random.seed(777)"
   ]
  },
  {
   "cell_type": "code",
   "execution_count": 527,
   "metadata": {
    "collapsed": false
   },
   "outputs": [
    {
     "name": "stdout",
     "output_type": "stream",
     "text": [
      "Extracting ./dataset/minist/train-images-idx3-ubyte.gz\n",
      "Extracting ./dataset/minist/train-labels-idx1-ubyte.gz\n",
      "Extracting ./dataset/minist/t10k-images-idx3-ubyte.gz\n",
      "Extracting ./dataset/minist/t10k-labels-idx1-ubyte.gz\n"
     ]
    }
   ],
   "source": [
    "from tensorflow.examples.tutorials.mnist import input_data\n",
    "minist = input_data.read_data_sets('./dataset/minist/', one_hot=True)"
   ]
  },
  {
   "cell_type": "code",
   "execution_count": 528,
   "metadata": {
    "collapsed": false
   },
   "outputs": [
    {
     "name": "stdout",
     "output_type": "stream",
     "text": [
      "(55000, 784)\n",
      "(55000, 10)\n"
     ]
    },
    {
     "data": {
      "text/plain": [
       "55000"
      ]
     },
     "execution_count": 528,
     "metadata": {},
     "output_type": "execute_result"
    }
   ],
   "source": [
    "print(minist.train.images.shape)\n",
    "print(minist.train.labels.shape)\n",
    "minist.train.num_examples"
   ]
  },
  {
   "cell_type": "code",
   "execution_count": 529,
   "metadata": {
    "collapsed": false
   },
   "outputs": [
    {
     "name": "stdout",
     "output_type": "stream",
     "text": [
      "(10000, 784)\n",
      "(10000, 10)\n"
     ]
    },
    {
     "data": {
      "text/plain": [
       "10000"
      ]
     },
     "execution_count": 529,
     "metadata": {},
     "output_type": "execute_result"
    }
   ],
   "source": [
    "print(minist.test.images.shape)\n",
    "print(minist.test.labels.shape)\n",
    "minist.test.num_examples"
   ]
  },
  {
   "cell_type": "code",
   "execution_count": 530,
   "metadata": {
    "collapsed": false
   },
   "outputs": [],
   "source": [
    "batch_size = 100\n",
    "len_epoch = 1000\n",
    "rate = 0.001"
   ]
  },
  {
   "cell_type": "code",
   "execution_count": 531,
   "metadata": {
    "collapsed": false
   },
   "outputs": [],
   "source": [
    "X = tf.placeholder(tf.float32, [None, 784])\n",
    "Y = tf.placeholder(tf.float32, [None, 10])"
   ]
  },
  {
   "cell_type": "code",
   "execution_count": 532,
   "metadata": {
    "collapsed": true
   },
   "outputs": [],
   "source": [
    "W = tf.Variable(tf.random_normal([784, 10]))\n",
    "B = tf.Variable(tf.random_normal([10]))\n",
    "\n",
    "H = tf.nn.softmax(tf.matmul(X, W)+B)"
   ]
  },
  {
   "cell_type": "code",
   "execution_count": 533,
   "metadata": {
    "collapsed": true
   },
   "outputs": [],
   "source": [
    "C = tf.reduce_mean(tf.nn.softmax_cross_entropy_with_logits(logits=H, labels=Y))"
   ]
  },
  {
   "cell_type": "code",
   "execution_count": 534,
   "metadata": {
    "collapsed": true
   },
   "outputs": [],
   "source": [
    "T = tf.train.AdamOptimizer(rate).minimize(C)"
   ]
  },
  {
   "cell_type": "code",
   "execution_count": 535,
   "metadata": {
    "collapsed": false
   },
   "outputs": [],
   "source": [
    "P = tf.equal(\n",
    "    (tf.arg_max(H, 1)), \n",
    "    (tf.arg_max(Y, 1))\n",
    ")\n",
    "A = tf.reduce_mean(tf.cast(P, tf.float32))"
   ]
  },
  {
   "cell_type": "code",
   "execution_count": null,
   "metadata": {
    "collapsed": true
   },
   "outputs": [],
   "source": [
    "# cost 82%"
   ]
  },
  {
   "cell_type": "code",
   "execution_count": 536,
   "metadata": {
    "collapsed": false,
    "scrolled": true
   },
   "outputs": [
    {
     "name": "stdout",
     "output_type": "stream",
     "text": [
      "Epoch: 0001 cost = 2.193804768\n",
      "Epoch: 0002 cost = 1.920039641\n",
      "Epoch: 0003 cost = 1.808207687\n",
      "Epoch: 0004 cost = 1.749355436\n",
      "Epoch: 0005 cost = 1.701294385\n",
      "Epoch: 0006 cost = 1.683805551\n",
      "Epoch: 0007 cost = 1.673973912\n",
      "Epoch: 0008 cost = 1.666918420\n",
      "Epoch: 0009 cost = 1.661510230\n",
      "Epoch: 0010 cost = 1.657479510\n",
      "Epoch: 0011 cost = 1.654018849\n",
      "Epoch: 0012 cost = 1.650968967\n",
      "Epoch: 0013 cost = 1.648455086\n",
      "Epoch: 0014 cost = 1.646162707\n",
      "Epoch: 0015 cost = 1.644270551\n",
      "0.8224999904632568 %\n"
     ]
    }
   ],
   "source": [
    "with tf.Session() as sess:\n",
    "    sess.run(tf.global_variables_initializer())\n",
    "    \n",
    "    for epoch in range(15):\n",
    "        avg_cost = 0\n",
    "\n",
    "        total_batch = int(minist.train.num_examples / batch_size)\n",
    "        \n",
    "        for i in range(total_batch):\n",
    "            trainx, trainy = minist.train.next_batch(100)\n",
    "            _, c = sess.run([T, C], feed_dict={X: trainx, Y: trainy})\n",
    "            avg_cost += c / total_batch\n",
    "            \n",
    "        print('Epoch:', '%04d' % (epoch + 1), 'cost =', '{:.9f}'.format(avg_cost))\n",
    "\n",
    "    a = sess.run(A, feed_dict={X: minist.test.images, Y: minist.test.labels})\n",
    "    print('{0} %'.format(a))"
   ]
  },
  {
   "cell_type": "code",
   "execution_count": null,
   "metadata": {
    "collapsed": true
   },
   "outputs": [],
   "source": []
  }
 ],
 "metadata": {
  "kernelspec": {
   "display_name": "Python 3",
   "language": "python",
   "name": "python3"
  },
  "language_info": {
   "codemirror_mode": {
    "name": "ipython",
    "version": 3
   },
   "file_extension": ".py",
   "mimetype": "text/x-python",
   "name": "python",
   "nbconvert_exporter": "python",
   "pygments_lexer": "ipython3",
   "version": "3.4.3"
  }
 },
 "nbformat": 4,
 "nbformat_minor": 2
}
