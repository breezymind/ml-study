{
 "cells": [
  {
   "cell_type": "code",
   "execution_count": 687,
   "metadata": {
    "collapsed": true
   },
   "outputs": [],
   "source": [
    "# https://ratsgo.github.io/natural%20language%20processing/2017/03/19/CNN/\n",
    "import tensorflow as tf\n",
    "import numpy as np\n",
    "import pandas as pd\n",
    "\n",
    "np.random.seed(777)"
   ]
  },
  {
   "cell_type": "code",
   "execution_count": 688,
   "metadata": {
    "collapsed": false
   },
   "outputs": [],
   "source": [
    "data = pd.read_csv('../5-0. FastText/test_corpus.txt', delimiter='\\t', names=['label', 'words'])"
   ]
  },
  {
   "cell_type": "code",
   "execution_count": 689,
   "metadata": {
    "collapsed": false
   },
   "outputs": [],
   "source": [
    "t"
   ]
  },
  {
   "cell_type": "code",
   "execution_count": 690,
   "metadata": {
    "collapsed": false
   },
   "outputs": [],
   "source": [
    "vocab_processor = tf.contrib.learn.preprocessing.VocabularyProcessor(seq_len)\n",
    "valid_x = list(vocab_processor.fit_transform(x_data))"
   ]
  },
  {
   "cell_type": "code",
   "execution_count": 691,
   "metadata": {
    "collapsed": false
   },
   "outputs": [],
   "source": [
    "vocab_dict = vocab_processor.vocabulary_._mapping\n",
    "word_index = sorted(vocab_dict.items(), key=lambda x: x[1])"
   ]
  },
  {
   "cell_type": "code",
   "execution_count": 736,
   "metadata": {
    "collapsed": false
   },
   "outputs": [],
   "source": [
    "embedding_size = 2\n",
    "output = 2\n",
    "word_count = len(word_index)\n",
    "filter_size = [3,4,5]\n",
    "num_filters = 128"
   ]
  },
  {
   "cell_type": "code",
   "execution_count": 737,
   "metadata": {
    "collapsed": false
   },
   "outputs": [
    {
     "data": {
      "text/plain": [
       "(56,)"
      ]
     },
     "execution_count": 737,
     "metadata": {},
     "output_type": "execute_result"
    }
   ],
   "source": [
    "np.asarray(valid_x).shape\n",
    "valid_x[0].shape"
   ]
  },
  {
   "cell_type": "code",
   "execution_count": 738,
   "metadata": {
    "collapsed": false
   },
   "outputs": [
    {
     "name": "stdout",
     "output_type": "stream",
     "text": [
      "valid_x 28\n",
      "valid_y 28\n",
      "seq_len 56\n",
      "output 2\n",
      "word_count 322\n",
      "num_filters 128\n"
     ]
    }
   ],
   "source": [
    "print('valid_x',len(valid_x))\n",
    "print('valid_y',len(valid_y))\n",
    "print('seq_len',seq_len)\n",
    "print('output',output)\n",
    "print('word_count',word_count)\n",
    "print('num_filters',num_filters)"
   ]
  },
  {
   "cell_type": "code",
   "execution_count": 739,
   "metadata": {
    "collapsed": false
   },
   "outputs": [
    {
     "name": "stdout",
     "output_type": "stream",
     "text": [
      "Tensor(\"X_27:0\", shape=(?, 56), dtype=int32) Tensor(\"Y_27:0\", shape=(?, 2), dtype=float32)\n"
     ]
    }
   ],
   "source": [
    "X = tf.placeholder(tf.int32, [None, seq_len], name='X')\n",
    "Y = tf.placeholder(tf.float32, [None, output], name='Y')\n",
    "\n",
    "print(X, Y)"
   ]
  },
  {
   "cell_type": "code",
   "execution_count": 740,
   "metadata": {
    "collapsed": false
   },
   "outputs": [
    {
     "name": "stdout",
     "output_type": "stream",
     "text": [
      "Tensor(\"Variable_54/read:0\", shape=(322, 2), dtype=float32)\n",
      "Tensor(\"embedding_lookup_43:0\", shape=(?, 56, 2), dtype=float32)\n",
      "Tensor(\"ExpandDims_40:0\", shape=(?, 56, 2, 1), dtype=float32)\n"
     ]
    }
   ],
   "source": [
    "embeddings = tf.Variable(tf.random_uniform([\n",
    "    word_count, \n",
    "    embedding_size\n",
    "], -1.0, 1.0))\n",
    "print(embeddings)\n",
    "\n",
    "embed = tf.nn.embedding_lookup(embeddings, X)\n",
    "ext_embed =  tf.expand_dims(embed, -1)\n",
    "print(embed)\n",
    "print(ext_embed)"
   ]
  },
  {
   "cell_type": "code",
   "execution_count": 696,
   "metadata": {
    "collapsed": false
   },
   "outputs": [],
   "source": [
    "# filter_size [3,4,5] \n",
    "W1 = tf.Variable(tf.random_normal([3, embedding_size, 1, num_filters], stddev=0.1), name='W1')\n",
    "W2 = tf.Variable(tf.random_normal([4, embedding_size, 1, num_filters], stddev=0.1), name='W2')\n",
    "b = tf.Variable(tf.constant(0.1, shape=[num_filters]), name=\"b\")"
   ]
  },
  {
   "cell_type": "code",
   "execution_count": 697,
   "metadata": {
    "collapsed": false
   },
   "outputs": [
    {
     "data": {
      "text/plain": [
       "<tf.Tensor 'Relu_47:0' shape=(?, 54, 1, 128) dtype=float32>"
      ]
     },
     "execution_count": 697,
     "metadata": {},
     "output_type": "execute_result"
    }
   ],
   "source": [
    "L1 = tf.nn.relu(\n",
    "    tf.nn.bias_add(\n",
    "        tf.nn.conv2d(ext_embed, W1, strides=[1,1,1,1], padding='VALID'),\n",
    "        b\n",
    "    )\n",
    ")\n",
    "L1"
   ]
  },
  {
   "cell_type": "code",
   "execution_count": 698,
   "metadata": {
    "collapsed": false
   },
   "outputs": [],
   "source": [
    "L1 = tf.nn.max_pool(L1, ksize=[1, seq_len-3+1, 1, 1], strides=[1,1,1,1], padding='VALID')\n",
    "L1 = tf.nn.dropout(L1, 0.5)"
   ]
  },
  {
   "cell_type": "code",
   "execution_count": 699,
   "metadata": {
    "collapsed": false
   },
   "outputs": [
    {
     "data": {
      "text/plain": [
       "<tf.Tensor 'dropout_2/mul:0' shape=(?, 1, 1, 128) dtype=float32>"
      ]
     },
     "execution_count": 699,
     "metadata": {},
     "output_type": "execute_result"
    }
   ],
   "source": [
    "L1"
   ]
  },
  {
   "cell_type": "code",
   "execution_count": 700,
   "metadata": {
    "collapsed": false
   },
   "outputs": [
    {
     "name": "stdout",
     "output_type": "stream",
     "text": [
      "Tensor(\"Reshape_2:0\", shape=(?, 128), dtype=float32)\n"
     ]
    }
   ],
   "source": [
    "# FC\n",
    "FCL = tf.reshape(L1, [-1, 1*1*128])\n",
    "print(FCL)"
   ]
  },
  {
   "cell_type": "code",
   "execution_count": 712,
   "metadata": {
    "collapsed": false,
    "scrolled": true
   },
   "outputs": [
    {
     "data": {
      "text/plain": [
       "<tensorflow.python.ops.variables.Variable at 0x119085fd0>"
      ]
     },
     "execution_count": 712,
     "metadata": {},
     "output_type": "execute_result"
    }
   ],
   "source": [
    "FCW = tf.Variable(tf.random_normal([1*1*128, 2]))\n",
    "FCW"
   ]
  },
  {
   "cell_type": "code",
   "execution_count": 715,
   "metadata": {
    "collapsed": false
   },
   "outputs": [],
   "source": [
    "FCB = tf.Variable(tf.random_normal([2]))"
   ]
  },
  {
   "cell_type": "code",
   "execution_count": 717,
   "metadata": {
    "collapsed": false
   },
   "outputs": [],
   "source": [
    "H = tf.matmul(FCL, FCW)+FCB"
   ]
  },
  {
   "cell_type": "code",
   "execution_count": 724,
   "metadata": {
    "collapsed": false
   },
   "outputs": [
    {
     "data": {
      "text/plain": [
       "<tf.Tensor 'Mean:0' shape=() dtype=float32>"
      ]
     },
     "execution_count": 724,
     "metadata": {},
     "output_type": "execute_result"
    }
   ],
   "source": [
    "C = tf.reduce_mean(tf.nn.softmax_cross_entropy_with_logits(logits=H, labels=Y))\n",
    "C"
   ]
  },
  {
   "cell_type": "code",
   "execution_count": 725,
   "metadata": {
    "collapsed": true
   },
   "outputs": [],
   "source": [
    "T = tf.train.AdamOptimizer(0.1).minimize(C)"
   ]
  },
  {
   "cell_type": "code",
   "execution_count": 728,
   "metadata": {
    "collapsed": false
   },
   "outputs": [
    {
     "name": "stdout",
     "output_type": "stream",
     "text": [
      "21.5737\n",
      "49.8757\n",
      "0.244135\n",
      "4.12583\n",
      "0.395788\n",
      "6.17757\n",
      "2.11629\n",
      "1.18259\n",
      "0.229644\n",
      "0.0\n",
      "2.55448e-08\n",
      "3.32759\n",
      "0.0\n",
      "0.0\n",
      "0.0\n",
      "2.70405\n",
      "5.73444\n",
      "0.0\n",
      "1.86862\n",
      "0.0\n",
      "3.70063\n",
      "0.169828\n",
      "0.0\n",
      "0.0\n",
      "0.0\n",
      "0.0\n",
      "0.0\n",
      "0.0\n",
      "1.48484\n",
      "1.86904\n",
      "0.0\n",
      "0.0\n",
      "0.0\n",
      "4.12973e-07\n",
      "6.23689\n",
      "1.57526e-07\n",
      "0.0\n",
      "0.126071\n",
      "0.0\n",
      "0.0\n",
      "0.0\n",
      "0.0\n",
      "3.50899\n",
      "0.0\n",
      "0.0\n",
      "1.54497\n",
      "2.13363\n",
      "0.0\n",
      "0.101873\n",
      "0.0\n",
      "0.0\n",
      "0.0\n",
      "0.0\n",
      "0.0\n",
      "0.0\n",
      "0.0\n",
      "0.0\n",
      "0.0\n",
      "2.84168\n",
      "0.0\n",
      "0.00126066\n",
      "0.0\n",
      "0.0\n",
      "3.23894\n",
      "0.0345818\n",
      "0.0\n",
      "0.0\n",
      "0.0\n",
      "2.11608\n",
      "0.0\n",
      "0.0\n",
      "0.0\n",
      "0.0\n",
      "0.0\n",
      "0.0\n",
      "0.0\n",
      "0.0\n",
      "0.0\n",
      "0.0\n",
      "0.0\n",
      "0.0\n",
      "0.0\n",
      "0.0\n",
      "0.0\n",
      "0.0\n",
      "0.0\n",
      "0.0\n",
      "0.0\n",
      "0.0\n",
      "0.0\n",
      "0.0\n",
      "0.0\n",
      "0.0\n",
      "0.0\n",
      "0.0\n",
      "0.0\n",
      "0.0\n",
      "0.0\n",
      "0.0\n",
      "0.0\n"
     ]
    }
   ],
   "source": [
    "# with tf.Session() as sess:\n",
    "#     sess.run(tf.global_variables_initializer())\n",
    "    \n",
    "#     for epoch in range(100):\n",
    "#         _, c = sess.run([T, C], feed_dict={X: valid_x, Y:valid_y})\n",
    "#         print(c)"
   ]
  },
  {
   "cell_type": "code",
   "execution_count": null,
   "metadata": {
    "collapsed": true
   },
   "outputs": [],
   "source": []
  }
 ],
 "metadata": {
  "kernelspec": {
   "display_name": "Python 3",
   "language": "python",
   "name": "python3"
  },
  "language_info": {
   "codemirror_mode": {
    "name": "ipython",
    "version": 3
   },
   "file_extension": ".py",
   "mimetype": "text/x-python",
   "name": "python",
   "nbconvert_exporter": "python",
   "pygments_lexer": "ipython3",
   "version": "3.4.3"
  }
 },
 "nbformat": 4,
 "nbformat_minor": 2
}
