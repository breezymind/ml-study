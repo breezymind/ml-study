{
 "cells": [
  {
   "cell_type": "code",
   "execution_count": 19,
   "metadata": {
    "collapsed": true
   },
   "outputs": [],
   "source": [
    "import tensorflow as tf\n",
    "import numpy as np"
   ]
  },
  {
   "cell_type": "code",
   "execution_count": 68,
   "metadata": {
    "collapsed": false
   },
   "outputs": [
    {
     "name": "stdout",
     "output_type": "stream",
     "text": [
      "Extracting ./dataset/minist/train-images-idx3-ubyte.gz\n",
      "Extracting ./dataset/minist/train-labels-idx1-ubyte.gz\n",
      "Extracting ./dataset/minist/t10k-images-idx3-ubyte.gz\n",
      "Extracting ./dataset/minist/t10k-labels-idx1-ubyte.gz\n"
     ]
    }
   ],
   "source": [
    "from tensorflow.examples.tutorials.mnist import input_data\n",
    "mnist = input_data.read_data_sets('./dataset/minist/', one_hot=True)"
   ]
  },
  {
   "cell_type": "code",
   "execution_count": 69,
   "metadata": {
    "collapsed": false
   },
   "outputs": [
    {
     "name": "stdout",
     "output_type": "stream",
     "text": [
      "(55000, 784)\n",
      "(55000, 10)\n"
     ]
    },
    {
     "data": {
      "text/plain": [
       "55000"
      ]
     },
     "execution_count": 69,
     "metadata": {},
     "output_type": "execute_result"
    }
   ],
   "source": [
    "print(mnist.train.images.shape)\n",
    "print(mnist.train.labels.shape)\n",
    "mnist.train.num_examples"
   ]
  },
  {
   "cell_type": "code",
   "execution_count": 70,
   "metadata": {
    "collapsed": false
   },
   "outputs": [
    {
     "name": "stdout",
     "output_type": "stream",
     "text": [
      "(10000, 784)\n",
      "(10000, 10)\n"
     ]
    },
    {
     "data": {
      "text/plain": [
       "10000"
      ]
     },
     "execution_count": 70,
     "metadata": {},
     "output_type": "execute_result"
    }
   ],
   "source": [
    "print(mnist.test.images.shape)\n",
    "print(mnist.test.labels.shape)\n",
    "mnist.test.num_examples"
   ]
  },
  {
   "cell_type": "code",
   "execution_count": 71,
   "metadata": {
    "collapsed": true
   },
   "outputs": [],
   "source": [
    "input1 = 28\n",
    "input2 = 28\n",
    "label = 10"
   ]
  },
  {
   "cell_type": "code",
   "execution_count": 72,
   "metadata": {
    "collapsed": false
   },
   "outputs": [],
   "source": [
    "X = tf.placeholder(tf.float32, [None, input1, input2, 1])\n",
    "Y = tf.placeholder(tf.float32, [None, label])"
   ]
  },
  {
   "cell_type": "code",
   "execution_count": 73,
   "metadata": {
    "collapsed": false
   },
   "outputs": [
    {
     "data": {
      "text/plain": [
       "<tf.Tensor 'MaxPool2D_13/MaxPool:0' shape=(?, 14, 14, 32) dtype=float32>"
      ]
     },
     "execution_count": 73,
     "metadata": {},
     "output_type": "execute_result"
    }
   ],
   "source": [
    "L1 = tf.contrib.layers.conv2d(\n",
    "    inputs=X, \n",
    "    kernel_size=[3,3], \n",
    "    num_outputs=32, \n",
    "    padding='same', \n",
    "    activation_fn=tf.nn.relu,\n",
    "    normalizer_fn=tf.nn.dropout, \n",
    "    normalizer_params={'keep_prob':0.8}\n",
    ")\n",
    "L1 = tf.contrib.layers.max_pool2d(\n",
    "    inputs=L1,\n",
    "    kernel_size=[2,2]\n",
    ")\n",
    "L1"
   ]
  },
  {
   "cell_type": "code",
   "execution_count": 74,
   "metadata": {
    "collapsed": false
   },
   "outputs": [
    {
     "data": {
      "text/plain": [
       "<tf.Tensor 'MaxPool2D_14/MaxPool:0' shape=(?, 7, 7, 64) dtype=float32>"
      ]
     },
     "execution_count": 74,
     "metadata": {},
     "output_type": "execute_result"
    }
   ],
   "source": [
    "L2 = tf.contrib.layers.conv2d(\n",
    "    inputs=L1,\n",
    "    kernel_size=[3,3], \n",
    "    num_outputs=64, \n",
    "    padding='same', \n",
    "    activation_fn=tf.nn.relu,\n",
    "    normalizer_fn=tf.nn.dropout, \n",
    "    normalizer_params={'keep_prob':0.8}\n",
    ")\n",
    "L2 = tf.contrib.layers.max_pool2d(\n",
    "    inputs=L2,\n",
    "    kernel_size=[2,2]\n",
    ")\n",
    "L2"
   ]
  },
  {
   "cell_type": "code",
   "execution_count": 83,
   "metadata": {
    "collapsed": false
   },
   "outputs": [
    {
     "name": "stdout",
     "output_type": "stream",
     "text": [
      "Tensor(\"MaxPool2D_14/MaxPool:0\", shape=(?, 7, 7, 64), dtype=float32)\n",
      "Tensor(\"Flatten_18/Reshape:0\", shape=(?, 3136), dtype=float32)\n",
      "Tensor(\"fully_connected_26/Relu:0\", shape=(?, 1238), dtype=float32)\n"
     ]
    },
    {
     "data": {
      "text/plain": [
       "<tf.Tensor 'fully_connected_27/Relu:0' shape=(?, 10) dtype=float32>"
      ]
     },
     "execution_count": 83,
     "metadata": {},
     "output_type": "execute_result"
    }
   ],
   "source": [
    "# FC\n",
    "print(L2)\n",
    "L3 = tf.contrib.layers.flatten(inputs=L2)\n",
    "print(L3)\n",
    "L3 = tf.contrib.layers.fully_connected(inputs=L3, num_outputs=1238)\n",
    "print(L3)\n",
    "\n",
    "M = tf.contrib.layers.fully_connected(inputs=L3, num_outputs=label)\n",
    "M"
   ]
  },
  {
   "cell_type": "code",
   "execution_count": 84,
   "metadata": {
    "collapsed": true
   },
   "outputs": [],
   "source": [
    "C = tf.reduce_mean(\n",
    "    tf.nn.softmax_cross_entropy_with_logits(logits=M, labels=Y)\n",
    ")"
   ]
  },
  {
   "cell_type": "code",
   "execution_count": 85,
   "metadata": {
    "collapsed": true
   },
   "outputs": [],
   "source": [
    "T = tf.train.AdamOptimizer(0.1).minimize(C)"
   ]
  },
  {
   "cell_type": "code",
   "execution_count": 86,
   "metadata": {
    "collapsed": false
   },
   "outputs": [
    {
     "name": "stdout",
     "output_type": "stream",
     "text": [
      "550\n",
      "Epoch: 0001 Avg. cost = 10.946\n",
      "Epoch: 0002 Avg. cost = 2.303\n",
      "Epoch: 0003 Avg. cost = 2.303\n",
      "Epoch: 0004 Avg. cost = 2.303\n",
      "Epoch: 0005 Avg. cost = 2.303\n",
      "최적화 완료!\n"
     ]
    }
   ],
   "source": [
    "sess = tf.Session()\n",
    "sess.run(tf.global_variables_initializer())\n",
    "\n",
    "batch_size = 100\n",
    "total_batch = int(mnist.train.num_examples/batch_size)\n",
    "\n",
    "print(total_batch)\n",
    "\n",
    "for epoch in range(5):\n",
    "    total_cost = 0\n",
    "\n",
    "    for i in range(total_batch):\n",
    "        \n",
    "        batch_xs, batch_ys = mnist.train.next_batch(batch_size)\n",
    "        \n",
    "        # 이미지 데이터를 CNN 모델을 위한 자료형태인 [28 28 1] 의 형태로 재구성합니다.\n",
    "        batch_xs = batch_xs.reshape(-1, input1, input2, 1)\n",
    "        \n",
    "        _, c = sess.run([T, C], feed_dict={X: batch_xs, Y: batch_ys})\n",
    "        total_cost += c\n",
    "\n",
    "    print ('Epoch:', '%04d' % (epoch + 1), 'Avg. cost =', '{:.3f}'.format(total_cost / total_batch))\n",
    "\n",
    "print ('최적화 완료!')"
   ]
  },
  {
   "cell_type": "code",
   "execution_count": 87,
   "metadata": {
    "collapsed": false
   },
   "outputs": [
    {
     "name": "stdout",
     "output_type": "stream",
     "text": [
      "정확도: 0.098\n"
     ]
    }
   ],
   "source": [
    "check_prediction = tf.equal(tf.argmax(M, 1), tf.argmax(Y, 1))\n",
    "accuracy = tf.reduce_mean(tf.cast(check_prediction, tf.float32))\n",
    "print ('정확도:', sess.run(\n",
    "    accuracy, feed_dict={\n",
    "        X: mnist.test.images.reshape(-1, 28, 28, 1),\n",
    "        Y: mnist.test.labels\n",
    "    }\n",
    "))"
   ]
  },
  {
   "cell_type": "code",
   "execution_count": null,
   "metadata": {
    "collapsed": true
   },
   "outputs": [],
   "source": []
  }
 ],
 "metadata": {
  "kernelspec": {
   "display_name": "Python 3",
   "language": "python",
   "name": "python3"
  },
  "language_info": {
   "codemirror_mode": {
    "name": "ipython",
    "version": 3
   },
   "file_extension": ".py",
   "mimetype": "text/x-python",
   "name": "python",
   "nbconvert_exporter": "python",
   "pygments_lexer": "ipython3",
   "version": "3.4.3"
  }
 },
 "nbformat": 4,
 "nbformat_minor": 2
}
